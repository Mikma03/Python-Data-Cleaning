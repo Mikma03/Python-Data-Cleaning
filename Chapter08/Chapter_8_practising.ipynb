{
 "cells": [
  {
   "cell_type": "code",
   "execution_count": 1,
   "metadata": {},
   "outputs": [],
   "source": [
    "import pandas as pd\n",
    "import numpy as np\n",
    "import os"
   ]
  },
  {
   "cell_type": "code",
   "execution_count": 2,
   "metadata": {},
   "outputs": [],
   "source": [
    "ltcameroon = pd.read_csv(\"data/ltcountry/ltcameroon.csv\")\n",
    "ltpoland = pd.read_csv(\"data/ltcountry/ltpoland.csv\")"
   ]
  },
  {
   "cell_type": "code",
   "execution_count": 3,
   "metadata": {},
   "outputs": [
    {
     "data": {
      "text/plain": [
       "(48, 11)"
      ]
     },
     "execution_count": 3,
     "metadata": {},
     "output_type": "execute_result"
    }
   ],
   "source": [
    "ltcameroon.shape"
   ]
  },
  {
   "cell_type": "code",
   "execution_count": 4,
   "metadata": {},
   "outputs": [
    {
     "data": {
      "text/plain": [
       "(120, 11)"
      ]
     },
     "execution_count": 4,
     "metadata": {},
     "output_type": "execute_result"
    }
   ],
   "source": [
    "ltpoland.shape"
   ]
  },
  {
   "cell_type": "code",
   "execution_count": 5,
   "metadata": {},
   "outputs": [
    {
     "data": {
      "text/html": [
       "<div>\n",
       "<style scoped>\n",
       "    .dataframe tbody tr th:only-of-type {\n",
       "        vertical-align: middle;\n",
       "    }\n",
       "\n",
       "    .dataframe tbody tr th {\n",
       "        vertical-align: top;\n",
       "    }\n",
       "\n",
       "    .dataframe thead th {\n",
       "        text-align: right;\n",
       "    }\n",
       "</style>\n",
       "<table border=\"1\" class=\"dataframe\">\n",
       "  <thead>\n",
       "    <tr style=\"text-align: right;\">\n",
       "      <th></th>\n",
       "      <th>locationid</th>\n",
       "      <th>year</th>\n",
       "      <th>month</th>\n",
       "      <th>temperature</th>\n",
       "      <th>latitude</th>\n",
       "      <th>longitude</th>\n",
       "      <th>elevation</th>\n",
       "      <th>station</th>\n",
       "      <th>countryid</th>\n",
       "      <th>country</th>\n",
       "      <th>latabs</th>\n",
       "    </tr>\n",
       "  </thead>\n",
       "  <tbody>\n",
       "    <tr>\n",
       "      <th>0</th>\n",
       "      <td>PL000012120</td>\n",
       "      <td>2019</td>\n",
       "      <td>1</td>\n",
       "      <td>0.55</td>\n",
       "      <td>54.750</td>\n",
       "      <td>17.5331</td>\n",
       "      <td>2.0</td>\n",
       "      <td>LEBA</td>\n",
       "      <td>PL</td>\n",
       "      <td>Poland</td>\n",
       "      <td>54.750</td>\n",
       "    </tr>\n",
       "    <tr>\n",
       "      <th>1</th>\n",
       "      <td>PL000012385</td>\n",
       "      <td>2019</td>\n",
       "      <td>1</td>\n",
       "      <td>-2.73</td>\n",
       "      <td>52.250</td>\n",
       "      <td>22.2500</td>\n",
       "      <td>152.0</td>\n",
       "      <td>SIEDLCE</td>\n",
       "      <td>PL</td>\n",
       "      <td>Poland</td>\n",
       "      <td>52.250</td>\n",
       "    </tr>\n",
       "    <tr>\n",
       "      <th>2</th>\n",
       "      <td>PLM00012160</td>\n",
       "      <td>2019</td>\n",
       "      <td>1</td>\n",
       "      <td>-2.14</td>\n",
       "      <td>54.167</td>\n",
       "      <td>19.4330</td>\n",
       "      <td>43.0</td>\n",
       "      <td>ELBLAG_MILEJEWO</td>\n",
       "      <td>PL</td>\n",
       "      <td>Poland</td>\n",
       "      <td>54.167</td>\n",
       "    </tr>\n",
       "    <tr>\n",
       "      <th>3</th>\n",
       "      <td>PLM00012205</td>\n",
       "      <td>2019</td>\n",
       "      <td>1</td>\n",
       "      <td>1.25</td>\n",
       "      <td>53.400</td>\n",
       "      <td>14.6170</td>\n",
       "      <td>7.0</td>\n",
       "      <td>SZCZECIN</td>\n",
       "      <td>PL</td>\n",
       "      <td>Poland</td>\n",
       "      <td>53.400</td>\n",
       "    </tr>\n",
       "    <tr>\n",
       "      <th>4</th>\n",
       "      <td>PLM00012295</td>\n",
       "      <td>2019</td>\n",
       "      <td>1</td>\n",
       "      <td>-3.85</td>\n",
       "      <td>53.100</td>\n",
       "      <td>23.1670</td>\n",
       "      <td>151.0</td>\n",
       "      <td>BIALYSTOK</td>\n",
       "      <td>PL</td>\n",
       "      <td>Poland</td>\n",
       "      <td>53.100</td>\n",
       "    </tr>\n",
       "  </tbody>\n",
       "</table>\n",
       "</div>"
      ],
      "text/plain": [
       "    locationid  year  month  temperature  latitude  longitude  elevation  \\\n",
       "0  PL000012120  2019      1         0.55    54.750    17.5331        2.0   \n",
       "1  PL000012385  2019      1        -2.73    52.250    22.2500      152.0   \n",
       "2  PLM00012160  2019      1        -2.14    54.167    19.4330       43.0   \n",
       "3  PLM00012205  2019      1         1.25    53.400    14.6170        7.0   \n",
       "4  PLM00012295  2019      1        -3.85    53.100    23.1670      151.0   \n",
       "\n",
       "           station countryid country  latabs  \n",
       "0             LEBA        PL  Poland  54.750  \n",
       "1          SIEDLCE        PL  Poland  52.250  \n",
       "2  ELBLAG_MILEJEWO        PL  Poland  54.167  \n",
       "3         SZCZECIN        PL  Poland  53.400  \n",
       "4        BIALYSTOK        PL  Poland  53.100  "
      ]
     },
     "execution_count": 5,
     "metadata": {},
     "output_type": "execute_result"
    }
   ],
   "source": [
    "ltpoland.head()"
   ]
  },
  {
   "cell_type": "code",
   "execution_count": 6,
   "metadata": {},
   "outputs": [
    {
     "data": {
      "text/plain": [
       "Poland      120\n",
       "Cameroon     48\n",
       "Name: country, dtype: int64"
      ]
     },
     "execution_count": 6,
     "metadata": {},
     "output_type": "execute_result"
    }
   ],
   "source": [
    "ltall = pd.concat([ltcameroon, ltpoland])\n",
    "ltall.country.value_counts()"
   ]
  },
  {
   "cell_type": "code",
   "execution_count": 7,
   "metadata": {},
   "outputs": [
    {
     "name": "stdout",
     "output_type": "stream",
     "text": [
      "ltbrazil.csv has 1104 rows.\n",
      "ltcameroon.csv has 48 rows.\n",
      "ltindia.csv has 1056 rows.\n",
      "ltjapan.csv has 1800 rows.\n",
      "ltmexico.csv has 852 rows.\n",
      "ltoman.csv has 288 rows.\n",
      "\n",
      "Different column names for:\n",
      "ltoman.csv\n",
      "Index(['latabs'], dtype='object')\n",
      "\n",
      "ltpoland.csv has 120 rows.\n"
     ]
    }
   ],
   "source": [
    ">>> directory = \"data/ltcountry\"\n",
    ">>> ltall = pd.DataFrame()\n",
    ">>> \n",
    ">>> for filename in os.listdir(directory):\n",
    "...   if filename.endswith(\".csv\"): \n",
    "...     fileloc = os.path.join(directory, filename)\n",
    "...     # open the next file\n",
    "...     with open(fileloc) as f:\n",
    "...       ltnew = pd.read_csv(fileloc)\n",
    "...       print(filename + \" has \" + str(ltnew.shape[0]) + \" rows.\")\n",
    "...       ltall = pd.concat([ltall, ltnew])\n",
    "...       # check for differences in columns\n",
    "...       columndiff = ltall.columns.symmetric_difference(ltnew.columns)\n",
    "...       if (not columndiff.empty):\n",
    "...         print(\"\", \"Different column names for:\", filename,\\\n",
    "...           columndiff, \"\", sep=\"\\n\")"
   ]
  },
  {
   "cell_type": "code",
   "execution_count": 8,
   "metadata": {},
   "outputs": [
    {
     "data": {
      "text/html": [
       "<div>\n",
       "<style scoped>\n",
       "    .dataframe tbody tr th:only-of-type {\n",
       "        vertical-align: middle;\n",
       "    }\n",
       "\n",
       "    .dataframe tbody tr th {\n",
       "        vertical-align: top;\n",
       "    }\n",
       "\n",
       "    .dataframe thead th {\n",
       "        text-align: right;\n",
       "    }\n",
       "</style>\n",
       "<table border=\"1\" class=\"dataframe\">\n",
       "  <thead>\n",
       "    <tr style=\"text-align: right;\">\n",
       "      <th></th>\n",
       "      <th>country</th>\n",
       "      <th>station</th>\n",
       "      <th>month</th>\n",
       "      <th>temperature</th>\n",
       "      <th>latitude</th>\n",
       "    </tr>\n",
       "  </thead>\n",
       "  <tbody>\n",
       "    <tr>\n",
       "      <th>717</th>\n",
       "      <td>Brazil</td>\n",
       "      <td>TAGUATINGA</td>\n",
       "      <td>8</td>\n",
       "      <td>27.75</td>\n",
       "      <td>-12.400</td>\n",
       "    </tr>\n",
       "    <tr>\n",
       "      <th>649</th>\n",
       "      <td>Japan</td>\n",
       "      <td>MATSUMOTO</td>\n",
       "      <td>5</td>\n",
       "      <td>17.25</td>\n",
       "      <td>36.250</td>\n",
       "    </tr>\n",
       "    <tr>\n",
       "      <th>172</th>\n",
       "      <td>Oman</td>\n",
       "      <td>BURAIMI_AUT</td>\n",
       "      <td>8</td>\n",
       "      <td>37.40</td>\n",
       "      <td>24.233</td>\n",
       "    </tr>\n",
       "    <tr>\n",
       "      <th>1029</th>\n",
       "      <td>India</td>\n",
       "      <td>JAIPUR_SANGANER</td>\n",
       "      <td>12</td>\n",
       "      <td>14.92</td>\n",
       "      <td>26.817</td>\n",
       "    </tr>\n",
       "    <tr>\n",
       "      <th>351</th>\n",
       "      <td>Mexico</td>\n",
       "      <td>SN_CRISTOBAL_LAS_CASASCHIS</td>\n",
       "      <td>5</td>\n",
       "      <td>19.30</td>\n",
       "      <td>16.750</td>\n",
       "    </tr>\n",
       "  </tbody>\n",
       "</table>\n",
       "</div>"
      ],
      "text/plain": [
       "     country                     station  month  temperature  latitude\n",
       "717   Brazil                  TAGUATINGA      8        27.75   -12.400\n",
       "649    Japan                   MATSUMOTO      5        17.25    36.250\n",
       "172     Oman                 BURAIMI_AUT      8        37.40    24.233\n",
       "1029   India             JAIPUR_SANGANER     12        14.92    26.817\n",
       "351   Mexico  SN_CRISTOBAL_LAS_CASASCHIS      5        19.30    16.750"
      ]
     },
     "execution_count": 8,
     "metadata": {},
     "output_type": "execute_result"
    }
   ],
   "source": [
    "ltall[['country','station','month','temperature','latitude']].sample(5, random_state=1)"
   ]
  },
  {
   "cell_type": "code",
   "execution_count": 9,
   "metadata": {},
   "outputs": [
    {
     "data": {
      "text/plain": [
       "Brazil      1104\n",
       "Cameroon      48\n",
       "India       1056\n",
       "Japan       1800\n",
       "Mexico       852\n",
       "Oman         288\n",
       "Poland       120\n",
       "Name: country, dtype: int64"
      ]
     },
     "execution_count": 9,
     "metadata": {},
     "output_type": "execute_result"
    }
   ],
   "source": [
    "ltall.country.value_counts().sort_index()"
   ]
  },
  {
   "cell_type": "code",
   "execution_count": 11,
   "metadata": {},
   "outputs": [
    {
     "data": {
      "text/html": [
       "<div>\n",
       "<style scoped>\n",
       "    .dataframe tbody tr th:only-of-type {\n",
       "        vertical-align: middle;\n",
       "    }\n",
       "\n",
       "    .dataframe tbody tr th {\n",
       "        vertical-align: top;\n",
       "    }\n",
       "\n",
       "    .dataframe thead tr th {\n",
       "        text-align: left;\n",
       "    }\n",
       "\n",
       "    .dataframe thead tr:last-of-type th {\n",
       "        text-align: right;\n",
       "    }\n",
       "</style>\n",
       "<table border=\"1\" class=\"dataframe\">\n",
       "  <thead>\n",
       "    <tr>\n",
       "      <th></th>\n",
       "      <th colspan=\"4\" halign=\"left\">temperature</th>\n",
       "      <th colspan=\"4\" halign=\"left\">latabs</th>\n",
       "    </tr>\n",
       "    <tr>\n",
       "      <th></th>\n",
       "      <th>min</th>\n",
       "      <th>mean</th>\n",
       "      <th>max</th>\n",
       "      <th>count</th>\n",
       "      <th>min</th>\n",
       "      <th>mean</th>\n",
       "      <th>max</th>\n",
       "      <th>count</th>\n",
       "    </tr>\n",
       "    <tr>\n",
       "      <th>country</th>\n",
       "      <th></th>\n",
       "      <th></th>\n",
       "      <th></th>\n",
       "      <th></th>\n",
       "      <th></th>\n",
       "      <th></th>\n",
       "      <th></th>\n",
       "      <th></th>\n",
       "    </tr>\n",
       "  </thead>\n",
       "  <tbody>\n",
       "    <tr>\n",
       "      <th>Brazil</th>\n",
       "      <td>12.20</td>\n",
       "      <td>25.470196</td>\n",
       "      <td>33.93</td>\n",
       "      <td>969</td>\n",
       "      <td>0.051</td>\n",
       "      <td>13.859272</td>\n",
       "      <td>33.517</td>\n",
       "      <td>1104</td>\n",
       "    </tr>\n",
       "    <tr>\n",
       "      <th>Cameroon</th>\n",
       "      <td>21.87</td>\n",
       "      <td>27.227941</td>\n",
       "      <td>36.00</td>\n",
       "      <td>34</td>\n",
       "      <td>4.020</td>\n",
       "      <td>7.789250</td>\n",
       "      <td>10.451</td>\n",
       "      <td>48</td>\n",
       "    </tr>\n",
       "    <tr>\n",
       "      <th>India</th>\n",
       "      <td>1.95</td>\n",
       "      <td>26.113477</td>\n",
       "      <td>37.40</td>\n",
       "      <td>1044</td>\n",
       "      <td>8.300</td>\n",
       "      <td>21.104516</td>\n",
       "      <td>34.083</td>\n",
       "      <td>1056</td>\n",
       "    </tr>\n",
       "    <tr>\n",
       "      <th>Japan</th>\n",
       "      <td>-7.15</td>\n",
       "      <td>15.495854</td>\n",
       "      <td>30.14</td>\n",
       "      <td>1797</td>\n",
       "      <td>24.300</td>\n",
       "      <td>35.664822</td>\n",
       "      <td>45.417</td>\n",
       "      <td>1800</td>\n",
       "    </tr>\n",
       "    <tr>\n",
       "      <th>Mexico</th>\n",
       "      <td>7.00</td>\n",
       "      <td>23.230397</td>\n",
       "      <td>34.45</td>\n",
       "      <td>806</td>\n",
       "      <td>14.917</td>\n",
       "      <td>22.114901</td>\n",
       "      <td>32.400</td>\n",
       "      <td>852</td>\n",
       "    </tr>\n",
       "    <tr>\n",
       "      <th>Oman</th>\n",
       "      <td>12.10</td>\n",
       "      <td>27.753463</td>\n",
       "      <td>38.39</td>\n",
       "      <td>205</td>\n",
       "      <td>NaN</td>\n",
       "      <td>NaN</td>\n",
       "      <td>NaN</td>\n",
       "      <td>0</td>\n",
       "    </tr>\n",
       "    <tr>\n",
       "      <th>Poland</th>\n",
       "      <td>-3.85</td>\n",
       "      <td>10.462750</td>\n",
       "      <td>23.25</td>\n",
       "      <td>120</td>\n",
       "      <td>50.078</td>\n",
       "      <td>52.498500</td>\n",
       "      <td>54.750</td>\n",
       "      <td>120</td>\n",
       "    </tr>\n",
       "  </tbody>\n",
       "</table>\n",
       "</div>"
      ],
      "text/plain": [
       "         temperature                          latabs                         \n",
       "                 min       mean    max count     min       mean     max count\n",
       "country                                                                      \n",
       "Brazil         12.20  25.470196  33.93   969   0.051  13.859272  33.517  1104\n",
       "Cameroon       21.87  27.227941  36.00    34   4.020   7.789250  10.451    48\n",
       "India           1.95  26.113477  37.40  1044   8.300  21.104516  34.083  1056\n",
       "Japan          -7.15  15.495854  30.14  1797  24.300  35.664822  45.417  1800\n",
       "Mexico          7.00  23.230397  34.45   806  14.917  22.114901  32.400   852\n",
       "Oman           12.10  27.753463  38.39   205     NaN        NaN     NaN     0\n",
       "Poland         -3.85  10.462750  23.25   120  50.078  52.498500  54.750   120"
      ]
     },
     "execution_count": 11,
     "metadata": {},
     "output_type": "execute_result"
    }
   ],
   "source": [
    "ltall.groupby(['country']).agg({'temperature':['min','mean', 'max','count'],'latabs':['min','mean','max','count']})"
   ]
  },
  {
   "cell_type": "code",
   "execution_count": 12,
   "metadata": {},
   "outputs": [
    {
     "data": {
      "text/html": [
       "<div>\n",
       "<style scoped>\n",
       "    .dataframe tbody tr th:only-of-type {\n",
       "        vertical-align: middle;\n",
       "    }\n",
       "\n",
       "    .dataframe tbody tr th {\n",
       "        vertical-align: top;\n",
       "    }\n",
       "\n",
       "    .dataframe thead tr th {\n",
       "        text-align: left;\n",
       "    }\n",
       "\n",
       "    .dataframe thead tr:last-of-type th {\n",
       "        text-align: right;\n",
       "    }\n",
       "</style>\n",
       "<table border=\"1\" class=\"dataframe\">\n",
       "  <thead>\n",
       "    <tr>\n",
       "      <th></th>\n",
       "      <th colspan=\"4\" halign=\"left\">temperature</th>\n",
       "      <th colspan=\"4\" halign=\"left\">latabs</th>\n",
       "    </tr>\n",
       "    <tr>\n",
       "      <th></th>\n",
       "      <th>min</th>\n",
       "      <th>mean</th>\n",
       "      <th>max</th>\n",
       "      <th>count</th>\n",
       "      <th>min</th>\n",
       "      <th>mean</th>\n",
       "      <th>max</th>\n",
       "      <th>count</th>\n",
       "    </tr>\n",
       "    <tr>\n",
       "      <th>country</th>\n",
       "      <th></th>\n",
       "      <th></th>\n",
       "      <th></th>\n",
       "      <th></th>\n",
       "      <th></th>\n",
       "      <th></th>\n",
       "      <th></th>\n",
       "      <th></th>\n",
       "    </tr>\n",
       "  </thead>\n",
       "  <tbody>\n",
       "    <tr>\n",
       "      <th>Brazil</th>\n",
       "      <td>12.20</td>\n",
       "      <td>25.470196</td>\n",
       "      <td>33.93</td>\n",
       "      <td>969</td>\n",
       "      <td>0.051</td>\n",
       "      <td>13.859272</td>\n",
       "      <td>33.517</td>\n",
       "      <td>1104</td>\n",
       "    </tr>\n",
       "    <tr>\n",
       "      <th>Cameroon</th>\n",
       "      <td>21.87</td>\n",
       "      <td>27.227941</td>\n",
       "      <td>36.00</td>\n",
       "      <td>34</td>\n",
       "      <td>4.020</td>\n",
       "      <td>7.789250</td>\n",
       "      <td>10.451</td>\n",
       "      <td>48</td>\n",
       "    </tr>\n",
       "    <tr>\n",
       "      <th>India</th>\n",
       "      <td>1.95</td>\n",
       "      <td>26.113477</td>\n",
       "      <td>37.40</td>\n",
       "      <td>1044</td>\n",
       "      <td>8.300</td>\n",
       "      <td>21.104516</td>\n",
       "      <td>34.083</td>\n",
       "      <td>1056</td>\n",
       "    </tr>\n",
       "    <tr>\n",
       "      <th>Japan</th>\n",
       "      <td>-7.15</td>\n",
       "      <td>15.495854</td>\n",
       "      <td>30.14</td>\n",
       "      <td>1797</td>\n",
       "      <td>24.300</td>\n",
       "      <td>35.664822</td>\n",
       "      <td>45.417</td>\n",
       "      <td>1800</td>\n",
       "    </tr>\n",
       "    <tr>\n",
       "      <th>Mexico</th>\n",
       "      <td>7.00</td>\n",
       "      <td>23.230397</td>\n",
       "      <td>34.45</td>\n",
       "      <td>806</td>\n",
       "      <td>14.917</td>\n",
       "      <td>22.114901</td>\n",
       "      <td>32.400</td>\n",
       "      <td>852</td>\n",
       "    </tr>\n",
       "    <tr>\n",
       "      <th>Oman</th>\n",
       "      <td>12.10</td>\n",
       "      <td>27.753463</td>\n",
       "      <td>38.39</td>\n",
       "      <td>205</td>\n",
       "      <td>16.933</td>\n",
       "      <td>21.997875</td>\n",
       "      <td>26.167</td>\n",
       "      <td>288</td>\n",
       "    </tr>\n",
       "    <tr>\n",
       "      <th>Poland</th>\n",
       "      <td>-3.85</td>\n",
       "      <td>10.462750</td>\n",
       "      <td>23.25</td>\n",
       "      <td>120</td>\n",
       "      <td>50.078</td>\n",
       "      <td>52.498500</td>\n",
       "      <td>54.750</td>\n",
       "      <td>120</td>\n",
       "    </tr>\n",
       "  </tbody>\n",
       "</table>\n",
       "</div>"
      ],
      "text/plain": [
       "         temperature                          latabs                         \n",
       "                 min       mean    max count     min       mean     max count\n",
       "country                                                                      \n",
       "Brazil         12.20  25.470196  33.93   969   0.051  13.859272  33.517  1104\n",
       "Cameroon       21.87  27.227941  36.00    34   4.020   7.789250  10.451    48\n",
       "India           1.95  26.113477  37.40  1044   8.300  21.104516  34.083  1056\n",
       "Japan          -7.15  15.495854  30.14  1797  24.300  35.664822  45.417  1800\n",
       "Mexico          7.00  23.230397  34.45   806  14.917  22.114901  32.400   852\n",
       "Oman           12.10  27.753463  38.39   205  16.933  21.997875  26.167   288\n",
       "Poland         -3.85  10.462750  23.25   120  50.078  52.498500  54.750   120"
      ]
     },
     "execution_count": 12,
     "metadata": {},
     "output_type": "execute_result"
    }
   ],
   "source": [
    "ltall['latabs'] = np.where(ltall.country==\"Oman\", ltall.latitude, ltall.latabs)\n",
    "ltall.groupby(['country']).agg({'temperature':['min','mean',\\\n",
    "  'max','count'],'latabs':['min','mean','max','count']})"
   ]
  },
  {
   "cell_type": "code",
   "execution_count": 14,
   "metadata": {},
   "outputs": [],
   "source": [
    ">>> import pandas as pd\n",
    ">>> nls97weeksworked = pd.read_csv(\"data/nls97weeksworked.csv\")\n",
    ">>> nls97colenr = pd.read_csv(\"data/nls97colenr.csv\")"
   ]
  },
  {
   "cell_type": "code",
   "execution_count": 15,
   "metadata": {},
   "outputs": [
    {
     "data": {
      "text/html": [
       "<div>\n",
       "<style scoped>\n",
       "    .dataframe tbody tr th:only-of-type {\n",
       "        vertical-align: middle;\n",
       "    }\n",
       "\n",
       "    .dataframe tbody tr th {\n",
       "        vertical-align: top;\n",
       "    }\n",
       "\n",
       "    .dataframe thead th {\n",
       "        text-align: right;\n",
       "    }\n",
       "</style>\n",
       "<table border=\"1\" class=\"dataframe\">\n",
       "  <thead>\n",
       "    <tr style=\"text-align: right;\">\n",
       "      <th></th>\n",
       "      <th>originalid</th>\n",
       "      <th>year</th>\n",
       "      <th>weeksworked</th>\n",
       "    </tr>\n",
       "  </thead>\n",
       "  <tbody>\n",
       "    <tr>\n",
       "      <th>32923</th>\n",
       "      <td>7199</td>\n",
       "      <td>2003</td>\n",
       "      <td>0</td>\n",
       "    </tr>\n",
       "    <tr>\n",
       "      <th>14214</th>\n",
       "      <td>4930</td>\n",
       "      <td>2001</td>\n",
       "      <td>52</td>\n",
       "    </tr>\n",
       "    <tr>\n",
       "      <th>2863</th>\n",
       "      <td>4727</td>\n",
       "      <td>2000</td>\n",
       "      <td>13</td>\n",
       "    </tr>\n",
       "    <tr>\n",
       "      <th>9746</th>\n",
       "      <td>6502</td>\n",
       "      <td>2001</td>\n",
       "      <td>0</td>\n",
       "    </tr>\n",
       "    <tr>\n",
       "      <th>2479</th>\n",
       "      <td>4036</td>\n",
       "      <td>2000</td>\n",
       "      <td>28</td>\n",
       "    </tr>\n",
       "    <tr>\n",
       "      <th>39435</th>\n",
       "      <td>1247</td>\n",
       "      <td>2004</td>\n",
       "      <td>52</td>\n",
       "    </tr>\n",
       "    <tr>\n",
       "      <th>36416</th>\n",
       "      <td>3481</td>\n",
       "      <td>2004</td>\n",
       "      <td>52</td>\n",
       "    </tr>\n",
       "    <tr>\n",
       "      <th>6145</th>\n",
       "      <td>8892</td>\n",
       "      <td>2000</td>\n",
       "      <td>19</td>\n",
       "    </tr>\n",
       "    <tr>\n",
       "      <th>5348</th>\n",
       "      <td>8411</td>\n",
       "      <td>2000</td>\n",
       "      <td>0</td>\n",
       "    </tr>\n",
       "    <tr>\n",
       "      <th>24193</th>\n",
       "      <td>4371</td>\n",
       "      <td>2002</td>\n",
       "      <td>34</td>\n",
       "    </tr>\n",
       "  </tbody>\n",
       "</table>\n",
       "</div>"
      ],
      "text/plain": [
       "       originalid  year  weeksworked\n",
       "32923        7199  2003            0\n",
       "14214        4930  2001           52\n",
       "2863         4727  2000           13\n",
       "9746         6502  2001            0\n",
       "2479         4036  2000           28\n",
       "39435        1247  2004           52\n",
       "36416        3481  2004           52\n",
       "6145         8892  2000           19\n",
       "5348         8411  2000            0\n",
       "24193        4371  2002           34"
      ]
     },
     "execution_count": 15,
     "metadata": {},
     "output_type": "execute_result"
    }
   ],
   "source": [
    "nls97weeksworked.sample(10, random_state=1)"
   ]
  },
  {
   "cell_type": "code",
   "execution_count": 16,
   "metadata": {},
   "outputs": [
    {
     "data": {
      "text/html": [
       "<div>\n",
       "<style scoped>\n",
       "    .dataframe tbody tr th:only-of-type {\n",
       "        vertical-align: middle;\n",
       "    }\n",
       "\n",
       "    .dataframe tbody tr th {\n",
       "        vertical-align: top;\n",
       "    }\n",
       "\n",
       "    .dataframe thead th {\n",
       "        text-align: right;\n",
       "    }\n",
       "</style>\n",
       "<table border=\"1\" class=\"dataframe\">\n",
       "  <thead>\n",
       "    <tr style=\"text-align: right;\">\n",
       "      <th></th>\n",
       "      <th>originalid</th>\n",
       "      <th>year</th>\n",
       "      <th>colenr</th>\n",
       "    </tr>\n",
       "  </thead>\n",
       "  <tbody>\n",
       "    <tr>\n",
       "      <th>32923</th>\n",
       "      <td>7199</td>\n",
       "      <td>2003</td>\n",
       "      <td>1. Not enrolled</td>\n",
       "    </tr>\n",
       "    <tr>\n",
       "      <th>14214</th>\n",
       "      <td>4930</td>\n",
       "      <td>2001</td>\n",
       "      <td>1. Not enrolled</td>\n",
       "    </tr>\n",
       "    <tr>\n",
       "      <th>2863</th>\n",
       "      <td>4727</td>\n",
       "      <td>2000</td>\n",
       "      <td>NaN</td>\n",
       "    </tr>\n",
       "    <tr>\n",
       "      <th>9746</th>\n",
       "      <td>6502</td>\n",
       "      <td>2001</td>\n",
       "      <td>1. Not enrolled</td>\n",
       "    </tr>\n",
       "    <tr>\n",
       "      <th>2479</th>\n",
       "      <td>4036</td>\n",
       "      <td>2000</td>\n",
       "      <td>1. Not enrolled</td>\n",
       "    </tr>\n",
       "    <tr>\n",
       "      <th>39435</th>\n",
       "      <td>1247</td>\n",
       "      <td>2004</td>\n",
       "      <td>3. 4-year college</td>\n",
       "    </tr>\n",
       "    <tr>\n",
       "      <th>36416</th>\n",
       "      <td>3481</td>\n",
       "      <td>2004</td>\n",
       "      <td>1. Not enrolled</td>\n",
       "    </tr>\n",
       "    <tr>\n",
       "      <th>6145</th>\n",
       "      <td>8892</td>\n",
       "      <td>2000</td>\n",
       "      <td>1. Not enrolled</td>\n",
       "    </tr>\n",
       "    <tr>\n",
       "      <th>5348</th>\n",
       "      <td>8411</td>\n",
       "      <td>2000</td>\n",
       "      <td>1. Not enrolled</td>\n",
       "    </tr>\n",
       "    <tr>\n",
       "      <th>24193</th>\n",
       "      <td>4371</td>\n",
       "      <td>2002</td>\n",
       "      <td>2. 2-year college</td>\n",
       "    </tr>\n",
       "  </tbody>\n",
       "</table>\n",
       "</div>"
      ],
      "text/plain": [
       "       originalid  year              colenr\n",
       "32923        7199  2003     1. Not enrolled\n",
       "14214        4930  2001     1. Not enrolled\n",
       "2863         4727  2000                 NaN\n",
       "9746         6502  2001     1. Not enrolled\n",
       "2479         4036  2000     1. Not enrolled\n",
       "39435        1247  2004   3. 4-year college\n",
       "36416        3481  2004     1. Not enrolled\n",
       "6145         8892  2000     1. Not enrolled\n",
       "5348         8411  2000     1. Not enrolled\n",
       "24193        4371  2002  2. 2-year college "
      ]
     },
     "execution_count": 16,
     "metadata": {},
     "output_type": "execute_result"
    }
   ],
   "source": [
    "nls97colenr.sample(10, random_state=1)"
   ]
  },
  {
   "cell_type": "code",
   "execution_count": 17,
   "metadata": {},
   "outputs": [
    {
     "data": {
      "text/plain": [
       "(44920, 3)"
      ]
     },
     "execution_count": 17,
     "metadata": {},
     "output_type": "execute_result"
    }
   ],
   "source": [
    "nls97colenr.shape"
   ]
  },
  {
   "cell_type": "code",
   "execution_count": 19,
   "metadata": {},
   "outputs": [
    {
     "data": {
      "text/plain": [
       "8984"
      ]
     },
     "execution_count": 19,
     "metadata": {},
     "output_type": "execute_result"
    }
   ],
   "source": [
    "nls97colenr.originalid.nunique()"
   ]
  },
  {
   "cell_type": "code",
   "execution_count": 20,
   "metadata": {},
   "outputs": [
    {
     "data": {
      "text/plain": [
       "(44920,)"
      ]
     },
     "execution_count": 20,
     "metadata": {},
     "output_type": "execute_result"
    }
   ],
   "source": [
    "nls97weeksworked.groupby(['originalid','year'])\\\n",
    "...   ['originalid'].count().shape"
   ]
  },
  {
   "cell_type": "code",
   "execution_count": 21,
   "metadata": {},
   "outputs": [
    {
     "data": {
      "text/plain": [
       "(44920,)"
      ]
     },
     "execution_count": 21,
     "metadata": {},
     "output_type": "execute_result"
    }
   ],
   "source": [
    "nls97colenr.groupby(['originalid','year'])\\\n",
    "...   ['originalid'].count().shape"
   ]
  },
  {
   "cell_type": "code",
   "execution_count": 22,
   "metadata": {},
   "outputs": [],
   "source": [
    ">>> def checkmerge(dfleft, dfright, idvar):\n",
    "...   dfleft['inleft'] = \"Y\"\n",
    "...   dfright['inright'] = \"Y\"\n",
    "...   dfboth = pd.merge(dfleft[idvar + ['inleft']],\\\n",
    "...     dfright[idvar + ['inright']], on=idvar, how=\"outer\")\n",
    "...   dfboth.fillna('N', inplace=True)\n",
    "...   print(pd.crosstab(dfboth.inleft, dfboth.inright))"
   ]
  },
  {
   "cell_type": "code",
   "execution_count": 23,
   "metadata": {},
   "outputs": [
    {
     "name": "stdout",
     "output_type": "stream",
     "text": [
      "inright      Y\n",
      "inleft        \n",
      "Y        44920\n"
     ]
    }
   ],
   "source": [
    "checkmerge(nls97weeksworked.copy(),nls97colenr.copy(), ['originalid','year'])"
   ]
  },
  {
   "cell_type": "code",
   "execution_count": null,
   "metadata": {},
   "outputs": [],
   "source": []
  }
 ],
 "metadata": {
  "interpreter": {
   "hash": "7b0470897870f91c1d27568bf8346e85da46866cae942d918bd7f2b2e94e9a5a"
  },
  "kernelspec": {
   "display_name": "Python 3.10.0 64-bit",
   "language": "python",
   "name": "python3"
  },
  "language_info": {
   "codemirror_mode": {
    "name": "ipython",
    "version": 3
   },
   "file_extension": ".py",
   "mimetype": "text/x-python",
   "name": "python",
   "nbconvert_exporter": "python",
   "pygments_lexer": "ipython3",
   "version": "3.10.0"
  },
  "orig_nbformat": 4
 },
 "nbformat": 4,
 "nbformat_minor": 2
}
