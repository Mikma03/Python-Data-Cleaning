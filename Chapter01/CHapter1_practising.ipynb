{
 "cells": [
  {
   "cell_type": "code",
   "execution_count": 2,
   "metadata": {},
   "outputs": [],
   "source": [
    "# step first\n",
    "\n",
    "import pandas as pd\n",
    "pd.options.display.float_format = '{:,.2f}'.format\n",
    "pd.set_option('display.width', 85)\n",
    "pd.set_option('display.max_columns', 8)"
   ]
  },
  {
   "cell_type": "code",
   "execution_count": 3,
   "metadata": {},
   "outputs": [],
   "source": [
    "# step second\n",
    "\n",
    "landtemps = pd.read_csv('data/landtempssample.csv',\n",
    "    names=['stationid','year','month','avgtemp','latitude',\n",
    "      'longitude','elevation','station','countryid','country'],\n",
    "    skiprows=1,\n",
    "    parse_dates=[['month','year']],\n",
    "    low_memory=False)"
   ]
  },
  {
   "cell_type": "code",
   "execution_count": 4,
   "metadata": {},
   "outputs": [
    {
     "data": {
      "text/plain": [
       "pandas.core.frame.DataFrame"
      ]
     },
     "execution_count": 4,
     "metadata": {},
     "output_type": "execute_result"
    }
   ],
   "source": [
    "type(landtemps)"
   ]
  },
  {
   "cell_type": "code",
   "execution_count": 5,
   "metadata": {},
   "outputs": [
    {
     "data": {
      "text/html": [
       "<div>\n",
       "<style scoped>\n",
       "    .dataframe tbody tr th:only-of-type {\n",
       "        vertical-align: middle;\n",
       "    }\n",
       "\n",
       "    .dataframe tbody tr th {\n",
       "        vertical-align: top;\n",
       "    }\n",
       "\n",
       "    .dataframe thead th {\n",
       "        text-align: right;\n",
       "    }\n",
       "</style>\n",
       "<table border=\"1\" class=\"dataframe\">\n",
       "  <thead>\n",
       "    <tr style=\"text-align: right;\">\n",
       "      <th></th>\n",
       "      <th>month_year</th>\n",
       "      <th>stationid</th>\n",
       "      <th>avgtemp</th>\n",
       "      <th>latitude</th>\n",
       "      <th>...</th>\n",
       "      <th>elevation</th>\n",
       "      <th>station</th>\n",
       "      <th>countryid</th>\n",
       "      <th>country</th>\n",
       "    </tr>\n",
       "  </thead>\n",
       "  <tbody>\n",
       "    <tr>\n",
       "      <th>0</th>\n",
       "      <td>2000-04-01</td>\n",
       "      <td>USS0010K01S</td>\n",
       "      <td>5.27</td>\n",
       "      <td>39.90</td>\n",
       "      <td>...</td>\n",
       "      <td>2,773.70</td>\n",
       "      <td>INDIAN_CANYON</td>\n",
       "      <td>US</td>\n",
       "      <td>United States</td>\n",
       "    </tr>\n",
       "    <tr>\n",
       "      <th>1</th>\n",
       "      <td>1940-05-01</td>\n",
       "      <td>CI000085406</td>\n",
       "      <td>18.04</td>\n",
       "      <td>-18.35</td>\n",
       "      <td>...</td>\n",
       "      <td>58.00</td>\n",
       "      <td>ARICA</td>\n",
       "      <td>CI</td>\n",
       "      <td>Chile</td>\n",
       "    </tr>\n",
       "    <tr>\n",
       "      <th>2</th>\n",
       "      <td>2013-12-01</td>\n",
       "      <td>USC00036376</td>\n",
       "      <td>6.22</td>\n",
       "      <td>34.37</td>\n",
       "      <td>...</td>\n",
       "      <td>61.00</td>\n",
       "      <td>SAINT_CHARLES</td>\n",
       "      <td>US</td>\n",
       "      <td>United States</td>\n",
       "    </tr>\n",
       "    <tr>\n",
       "      <th>3</th>\n",
       "      <td>1963-02-01</td>\n",
       "      <td>ASN00024002</td>\n",
       "      <td>22.93</td>\n",
       "      <td>-34.28</td>\n",
       "      <td>...</td>\n",
       "      <td>65.50</td>\n",
       "      <td>BERRI_IRRIGATION</td>\n",
       "      <td>AS</td>\n",
       "      <td>Australia</td>\n",
       "    </tr>\n",
       "    <tr>\n",
       "      <th>4</th>\n",
       "      <td>2001-11-01</td>\n",
       "      <td>ASN00028007</td>\n",
       "      <td>NaN</td>\n",
       "      <td>-14.78</td>\n",
       "      <td>...</td>\n",
       "      <td>79.40</td>\n",
       "      <td>MUSGRAVE</td>\n",
       "      <td>AS</td>\n",
       "      <td>Australia</td>\n",
       "    </tr>\n",
       "    <tr>\n",
       "      <th>5</th>\n",
       "      <td>1991-04-01</td>\n",
       "      <td>USW00024151</td>\n",
       "      <td>5.59</td>\n",
       "      <td>42.15</td>\n",
       "      <td>...</td>\n",
       "      <td>1,362.50</td>\n",
       "      <td>MALAD_CITY</td>\n",
       "      <td>US</td>\n",
       "      <td>United States</td>\n",
       "    </tr>\n",
       "    <tr>\n",
       "      <th>6</th>\n",
       "      <td>1993-12-01</td>\n",
       "      <td>RSM00022641</td>\n",
       "      <td>-10.17</td>\n",
       "      <td>63.90</td>\n",
       "      <td>...</td>\n",
       "      <td>13.00</td>\n",
       "      <td>ONEGA</td>\n",
       "      <td>RS</td>\n",
       "      <td>Russia</td>\n",
       "    </tr>\n",
       "  </tbody>\n",
       "</table>\n",
       "<p>7 rows × 9 columns</p>\n",
       "</div>"
      ],
      "text/plain": [
       "  month_year    stationid  avgtemp  latitude  ...  elevation           station  \\\n",
       "0 2000-04-01  USS0010K01S     5.27     39.90  ...   2,773.70     INDIAN_CANYON   \n",
       "1 1940-05-01  CI000085406    18.04    -18.35  ...      58.00             ARICA   \n",
       "2 2013-12-01  USC00036376     6.22     34.37  ...      61.00     SAINT_CHARLES   \n",
       "3 1963-02-01  ASN00024002    22.93    -34.28  ...      65.50  BERRI_IRRIGATION   \n",
       "4 2001-11-01  ASN00028007      NaN    -14.78  ...      79.40          MUSGRAVE   \n",
       "5 1991-04-01  USW00024151     5.59     42.15  ...   1,362.50        MALAD_CITY   \n",
       "6 1993-12-01  RSM00022641   -10.17     63.90  ...      13.00             ONEGA   \n",
       "\n",
       "  countryid        country  \n",
       "0        US  United States  \n",
       "1        CI          Chile  \n",
       "2        US  United States  \n",
       "3        AS      Australia  \n",
       "4        AS      Australia  \n",
       "5        US  United States  \n",
       "6        RS         Russia  \n",
       "\n",
       "[7 rows x 9 columns]"
      ]
     },
     "execution_count": 5,
     "metadata": {},
     "output_type": "execute_result"
    }
   ],
   "source": [
    "# step third\n",
    "\n",
    "landtemps.head(7)"
   ]
  },
  {
   "cell_type": "code",
   "execution_count": 6,
   "metadata": {},
   "outputs": [
    {
     "data": {
      "text/plain": [
       "(100000, 9)"
      ]
     },
     "execution_count": 6,
     "metadata": {},
     "output_type": "execute_result"
    }
   ],
   "source": [
    "landtemps.shape"
   ]
  },
  {
   "cell_type": "code",
   "execution_count": 7,
   "metadata": {},
   "outputs": [],
   "source": [
    "landtemps.rename(columns={'month_year':'measuredate'}, inplace=True)"
   ]
  },
  {
   "cell_type": "code",
   "execution_count": 8,
   "metadata": {},
   "outputs": [
    {
     "data": {
      "text/plain": [
       "measuredate    datetime64[ns]\n",
       "stationid              object\n",
       "avgtemp               float64\n",
       "latitude              float64\n",
       "longitude             float64\n",
       "elevation             float64\n",
       "station                object\n",
       "countryid              object\n",
       "country                object\n",
       "dtype: object"
      ]
     },
     "execution_count": 8,
     "metadata": {},
     "output_type": "execute_result"
    }
   ],
   "source": [
    "landtemps.dtypes"
   ]
  },
  {
   "cell_type": "code",
   "execution_count": 9,
   "metadata": {},
   "outputs": [
    {
     "data": {
      "text/plain": [
       "count   85,554.00\n",
       "mean        10.92\n",
       "std         11.52\n",
       "min        -70.70\n",
       "25%          3.46\n",
       "50%         12.22\n",
       "75%         19.57\n",
       "max         39.95\n",
       "Name: avgtemp, dtype: float64"
      ]
     },
     "execution_count": 9,
     "metadata": {},
     "output_type": "execute_result"
    }
   ],
   "source": [
    "landtemps.avgtemp.describe()"
   ]
  },
  {
   "cell_type": "code",
   "execution_count": 10,
   "metadata": {},
   "outputs": [
    {
     "data": {
      "text/plain": [
       "measuredate        0\n",
       "stationid          0\n",
       "avgtemp        14446\n",
       "latitude           0\n",
       "longitude          0\n",
       "elevation          0\n",
       "station            0\n",
       "countryid          0\n",
       "country            5\n",
       "dtype: int64"
      ]
     },
     "execution_count": 10,
     "metadata": {},
     "output_type": "execute_result"
    }
   ],
   "source": [
    "landtemps.isnull().sum()"
   ]
  },
  {
   "cell_type": "code",
   "execution_count": 11,
   "metadata": {},
   "outputs": [],
   "source": [
    "landtemps.dropna(subset=['avgtemp'], inplace=True)"
   ]
  },
  {
   "cell_type": "code",
   "execution_count": 12,
   "metadata": {},
   "outputs": [
    {
     "data": {
      "text/plain": [
       "(85554, 9)"
      ]
     },
     "execution_count": 12,
     "metadata": {},
     "output_type": "execute_result"
    }
   ],
   "source": [
    "landtemps.shape"
   ]
  },
  {
   "cell_type": "code",
   "execution_count": 13,
   "metadata": {},
   "outputs": [],
   "source": [
    "############################################################################################"
   ]
  },
  {
   "cell_type": "code",
   "execution_count": 17,
   "metadata": {},
   "outputs": [],
   "source": [
    "import pandas as pd"
   ]
  },
  {
   "cell_type": "code",
   "execution_count": 16,
   "metadata": {},
   "outputs": [
    {
     "name": "stdout",
     "output_type": "stream",
     "text": [
      "Collecting openpyxl\n",
      "  Downloading openpyxl-3.0.9-py2.py3-none-any.whl (242 kB)\n",
      "Collecting et-xmlfile\n",
      "  Downloading et_xmlfile-1.1.0-py3-none-any.whl (4.7 kB)\n",
      "Installing collected packages: et-xmlfile, openpyxl\n",
      "Successfully installed et-xmlfile-1.1.0 openpyxl-3.0.9\n",
      "Note: you may need to restart the kernel to use updated packages.\n"
     ]
    },
    {
     "name": "stderr",
     "output_type": "stream",
     "text": [
      "WARNING: You are using pip version 21.2.3; however, version 21.3.1 is available.\n",
      "You should consider upgrading via the 'C:\\Users\\mikol\\AppData\\Local\\Programs\\Python\\Python310\\python.exe -m pip install --upgrade pip' command.\n"
     ]
    }
   ],
   "source": [
    "pip install openpyxl"
   ]
  },
  {
   "cell_type": "code",
   "execution_count": 18,
   "metadata": {},
   "outputs": [],
   "source": [
    "percapitaGDP = pd.read_excel(\"data/GDPpercapita.xlsx\",\n",
    "   sheet_name=\"OECD.Stat export\",\n",
    "   skiprows=4,\n",
    "   skipfooter=1,\n",
    "   usecols=\"A,C:T\")"
   ]
  },
  {
   "cell_type": "code",
   "execution_count": 19,
   "metadata": {},
   "outputs": [
    {
     "data": {
      "text/html": [
       "<div>\n",
       "<style scoped>\n",
       "    .dataframe tbody tr th:only-of-type {\n",
       "        vertical-align: middle;\n",
       "    }\n",
       "\n",
       "    .dataframe tbody tr th {\n",
       "        vertical-align: top;\n",
       "    }\n",
       "\n",
       "    .dataframe thead th {\n",
       "        text-align: right;\n",
       "    }\n",
       "</style>\n",
       "<table border=\"1\" class=\"dataframe\">\n",
       "  <thead>\n",
       "    <tr style=\"text-align: right;\">\n",
       "      <th></th>\n",
       "      <th>Year</th>\n",
       "      <th>2001</th>\n",
       "      <th>2002</th>\n",
       "      <th>2003</th>\n",
       "      <th>...</th>\n",
       "      <th>2015</th>\n",
       "      <th>2016</th>\n",
       "      <th>2017</th>\n",
       "      <th>2018</th>\n",
       "    </tr>\n",
       "  </thead>\n",
       "  <tbody>\n",
       "    <tr>\n",
       "      <th>0</th>\n",
       "      <td>Metropolitan areas</td>\n",
       "      <td>NaN</td>\n",
       "      <td>NaN</td>\n",
       "      <td>NaN</td>\n",
       "      <td>...</td>\n",
       "      <td>NaN</td>\n",
       "      <td>NaN</td>\n",
       "      <td>NaN</td>\n",
       "      <td>NaN</td>\n",
       "    </tr>\n",
       "    <tr>\n",
       "      <th>1</th>\n",
       "      <td>AUS: Australia</td>\n",
       "      <td>..</td>\n",
       "      <td>..</td>\n",
       "      <td>..</td>\n",
       "      <td>...</td>\n",
       "      <td>..</td>\n",
       "      <td>..</td>\n",
       "      <td>..</td>\n",
       "      <td>..</td>\n",
       "    </tr>\n",
       "    <tr>\n",
       "      <th>2</th>\n",
       "      <td>AUS01: Greater Sydney</td>\n",
       "      <td>43313</td>\n",
       "      <td>44008</td>\n",
       "      <td>45424</td>\n",
       "      <td>...</td>\n",
       "      <td>50075</td>\n",
       "      <td>50519</td>\n",
       "      <td>50578</td>\n",
       "      <td>49860</td>\n",
       "    </tr>\n",
       "    <tr>\n",
       "      <th>3</th>\n",
       "      <td>AUS02: Greater Melbourne</td>\n",
       "      <td>40125</td>\n",
       "      <td>40894</td>\n",
       "      <td>41602</td>\n",
       "      <td>...</td>\n",
       "      <td>42928</td>\n",
       "      <td>42671</td>\n",
       "      <td>43025</td>\n",
       "      <td>42674</td>\n",
       "    </tr>\n",
       "    <tr>\n",
       "      <th>4</th>\n",
       "      <td>AUS03: Greater Brisbane</td>\n",
       "      <td>37580</td>\n",
       "      <td>37564</td>\n",
       "      <td>39080</td>\n",
       "      <td>...</td>\n",
       "      <td>44388</td>\n",
       "      <td>45723</td>\n",
       "      <td>46876</td>\n",
       "      <td>46640</td>\n",
       "    </tr>\n",
       "  </tbody>\n",
       "</table>\n",
       "<p>5 rows × 19 columns</p>\n",
       "</div>"
      ],
      "text/plain": [
       "                         Year   2001   2002   2003  ...   2015   2016   2017   2018\n",
       "0          Metropolitan areas    NaN    NaN    NaN  ...    NaN    NaN    NaN    NaN\n",
       "1              AUS: Australia     ..     ..     ..  ...     ..     ..     ..     ..\n",
       "2       AUS01: Greater Sydney  43313  44008  45424  ...  50075  50519  50578  49860\n",
       "3    AUS02: Greater Melbourne  40125  40894  41602  ...  42928  42671  43025  42674\n",
       "4     AUS03: Greater Brisbane  37580  37564  39080  ...  44388  45723  46876  46640\n",
       "\n",
       "[5 rows x 19 columns]"
      ]
     },
     "execution_count": 19,
     "metadata": {},
     "output_type": "execute_result"
    }
   ],
   "source": [
    "percapitaGDP.head()"
   ]
  },
  {
   "cell_type": "code",
   "execution_count": 20,
   "metadata": {},
   "outputs": [
    {
     "name": "stdout",
     "output_type": "stream",
     "text": [
      "<class 'pandas.core.frame.DataFrame'>\n",
      "RangeIndex: 702 entries, 0 to 701\n",
      "Data columns (total 19 columns):\n",
      " #   Column  Non-Null Count  Dtype \n",
      "---  ------  --------------  ----- \n",
      " 0   Year    702 non-null    object\n",
      " 1   2001    701 non-null    object\n",
      " 2   2002    701 non-null    object\n",
      " 3   2003    701 non-null    object\n",
      " 4   2004    701 non-null    object\n",
      " 5   2005    701 non-null    object\n",
      " 6   2006    701 non-null    object\n",
      " 7   2007    701 non-null    object\n",
      " 8   2008    701 non-null    object\n",
      " 9   2009    701 non-null    object\n",
      " 10  2010    701 non-null    object\n",
      " 11  2011    701 non-null    object\n",
      " 12  2012    701 non-null    object\n",
      " 13  2013    701 non-null    object\n",
      " 14  2014    701 non-null    object\n",
      " 15  2015    701 non-null    object\n",
      " 16  2016    701 non-null    object\n",
      " 17  2017    701 non-null    object\n",
      " 18  2018    701 non-null    object\n",
      "dtypes: object(19)\n",
      "memory usage: 104.3+ KB\n"
     ]
    }
   ],
   "source": [
    "percapitaGDP.info()"
   ]
  },
  {
   "cell_type": "code",
   "execution_count": 21,
   "metadata": {},
   "outputs": [],
   "source": [
    "percapitaGDP.rename(columns={'Year':'metro'}, inplace=True)"
   ]
  },
  {
   "cell_type": "code",
   "execution_count": 22,
   "metadata": {},
   "outputs": [
    {
     "data": {
      "text/plain": [
       "True"
      ]
     },
     "execution_count": 22,
     "metadata": {},
     "output_type": "execute_result"
    }
   ],
   "source": [
    "percapitaGDP.metro.str.startswith(' ').any()"
   ]
  },
  {
   "cell_type": "code",
   "execution_count": 23,
   "metadata": {},
   "outputs": [
    {
     "data": {
      "text/plain": [
       "True"
      ]
     },
     "execution_count": 23,
     "metadata": {},
     "output_type": "execute_result"
    }
   ],
   "source": [
    "percapitaGDP.metro.str.endswith(' ').any()"
   ]
  },
  {
   "cell_type": "code",
   "execution_count": 24,
   "metadata": {},
   "outputs": [],
   "source": [
    "percapitaGDP.metro = percapitaGDP.metro.str.strip()"
   ]
  },
  {
   "cell_type": "code",
   "execution_count": 25,
   "metadata": {},
   "outputs": [],
   "source": [
    "for col in percapitaGDP.columns[1:]:\n",
    "    percapitaGDP[col] = pd.to_numeric(percapitaGDP[col], errors='coerce')\n",
    "    percapitaGDP.rename(columns={col:'pcGDP'+col}, inplace=True)"
   ]
  },
  {
   "cell_type": "code",
   "execution_count": 26,
   "metadata": {},
   "outputs": [
    {
     "data": {
      "text/html": [
       "<div>\n",
       "<style scoped>\n",
       "    .dataframe tbody tr th:only-of-type {\n",
       "        vertical-align: middle;\n",
       "    }\n",
       "\n",
       "    .dataframe tbody tr th {\n",
       "        vertical-align: top;\n",
       "    }\n",
       "\n",
       "    .dataframe thead th {\n",
       "        text-align: right;\n",
       "    }\n",
       "</style>\n",
       "<table border=\"1\" class=\"dataframe\">\n",
       "  <thead>\n",
       "    <tr style=\"text-align: right;\">\n",
       "      <th></th>\n",
       "      <th>metro</th>\n",
       "      <th>pcGDP2001</th>\n",
       "      <th>pcGDP2002</th>\n",
       "      <th>pcGDP2003</th>\n",
       "      <th>...</th>\n",
       "      <th>pcGDP2015</th>\n",
       "      <th>pcGDP2016</th>\n",
       "      <th>pcGDP2017</th>\n",
       "      <th>pcGDP2018</th>\n",
       "    </tr>\n",
       "  </thead>\n",
       "  <tbody>\n",
       "    <tr>\n",
       "      <th>0</th>\n",
       "      <td>Metropolitan areas</td>\n",
       "      <td>NaN</td>\n",
       "      <td>NaN</td>\n",
       "      <td>NaN</td>\n",
       "      <td>...</td>\n",
       "      <td>NaN</td>\n",
       "      <td>NaN</td>\n",
       "      <td>NaN</td>\n",
       "      <td>NaN</td>\n",
       "    </tr>\n",
       "    <tr>\n",
       "      <th>1</th>\n",
       "      <td>AUS: Australia</td>\n",
       "      <td>NaN</td>\n",
       "      <td>NaN</td>\n",
       "      <td>NaN</td>\n",
       "      <td>...</td>\n",
       "      <td>NaN</td>\n",
       "      <td>NaN</td>\n",
       "      <td>NaN</td>\n",
       "      <td>NaN</td>\n",
       "    </tr>\n",
       "    <tr>\n",
       "      <th>2</th>\n",
       "      <td>AUS01: Greater Sydney</td>\n",
       "      <td>43,313.00</td>\n",
       "      <td>44,008.00</td>\n",
       "      <td>45,424.00</td>\n",
       "      <td>...</td>\n",
       "      <td>50,075.00</td>\n",
       "      <td>50,519.00</td>\n",
       "      <td>50,578.00</td>\n",
       "      <td>49,860.00</td>\n",
       "    </tr>\n",
       "    <tr>\n",
       "      <th>3</th>\n",
       "      <td>AUS02: Greater Melbourne</td>\n",
       "      <td>40,125.00</td>\n",
       "      <td>40,894.00</td>\n",
       "      <td>41,602.00</td>\n",
       "      <td>...</td>\n",
       "      <td>42,928.00</td>\n",
       "      <td>42,671.00</td>\n",
       "      <td>43,025.00</td>\n",
       "      <td>42,674.00</td>\n",
       "    </tr>\n",
       "    <tr>\n",
       "      <th>4</th>\n",
       "      <td>AUS03: Greater Brisbane</td>\n",
       "      <td>37,580.00</td>\n",
       "      <td>37,564.00</td>\n",
       "      <td>39,080.00</td>\n",
       "      <td>...</td>\n",
       "      <td>44,388.00</td>\n",
       "      <td>45,723.00</td>\n",
       "      <td>46,876.00</td>\n",
       "      <td>46,640.00</td>\n",
       "    </tr>\n",
       "  </tbody>\n",
       "</table>\n",
       "<p>5 rows × 19 columns</p>\n",
       "</div>"
      ],
      "text/plain": [
       "                      metro  pcGDP2001  pcGDP2002  pcGDP2003  ...  pcGDP2015  \\\n",
       "0        Metropolitan areas        NaN        NaN        NaN  ...        NaN   \n",
       "1            AUS: Australia        NaN        NaN        NaN  ...        NaN   \n",
       "2     AUS01: Greater Sydney  43,313.00  44,008.00  45,424.00  ...  50,075.00   \n",
       "3  AUS02: Greater Melbourne  40,125.00  40,894.00  41,602.00  ...  42,928.00   \n",
       "4   AUS03: Greater Brisbane  37,580.00  37,564.00  39,080.00  ...  44,388.00   \n",
       "\n",
       "   pcGDP2016  pcGDP2017  pcGDP2018  \n",
       "0        NaN        NaN        NaN  \n",
       "1        NaN        NaN        NaN  \n",
       "2  50,519.00  50,578.00  49,860.00  \n",
       "3  42,671.00  43,025.00  42,674.00  \n",
       "4  45,723.00  46,876.00  46,640.00  \n",
       "\n",
       "[5 rows x 19 columns]"
      ]
     },
     "execution_count": 26,
     "metadata": {},
     "output_type": "execute_result"
    }
   ],
   "source": [
    "percapitaGDP.head()"
   ]
  },
  {
   "cell_type": "code",
   "execution_count": 27,
   "metadata": {},
   "outputs": [
    {
     "data": {
      "text/plain": [
       "metro         object\n",
       "pcGDP2001    float64\n",
       "pcGDP2002    float64\n",
       "pcGDP2003    float64\n",
       "pcGDP2004    float64\n",
       "pcGDP2005    float64\n",
       "pcGDP2006    float64\n",
       "pcGDP2007    float64\n",
       "pcGDP2008    float64\n",
       "pcGDP2009    float64\n",
       "pcGDP2010    float64\n",
       "pcGDP2011    float64\n",
       "pcGDP2012    float64\n",
       "pcGDP2013    float64\n",
       "pcGDP2014    float64\n",
       "pcGDP2015    float64\n",
       "pcGDP2016    float64\n",
       "pcGDP2017    float64\n",
       "pcGDP2018    float64\n",
       "dtype: object"
      ]
     },
     "execution_count": 27,
     "metadata": {},
     "output_type": "execute_result"
    }
   ],
   "source": [
    "percapitaGDP.dtypes"
   ]
  },
  {
   "cell_type": "code",
   "execution_count": 28,
   "metadata": {},
   "outputs": [
    {
     "data": {
      "text/html": [
       "<div>\n",
       "<style scoped>\n",
       "    .dataframe tbody tr th:only-of-type {\n",
       "        vertical-align: middle;\n",
       "    }\n",
       "\n",
       "    .dataframe tbody tr th {\n",
       "        vertical-align: top;\n",
       "    }\n",
       "\n",
       "    .dataframe thead th {\n",
       "        text-align: right;\n",
       "    }\n",
       "</style>\n",
       "<table border=\"1\" class=\"dataframe\">\n",
       "  <thead>\n",
       "    <tr style=\"text-align: right;\">\n",
       "      <th></th>\n",
       "      <th>pcGDP2001</th>\n",
       "      <th>pcGDP2002</th>\n",
       "      <th>pcGDP2003</th>\n",
       "      <th>pcGDP2004</th>\n",
       "      <th>...</th>\n",
       "      <th>pcGDP2015</th>\n",
       "      <th>pcGDP2016</th>\n",
       "      <th>pcGDP2017</th>\n",
       "      <th>pcGDP2018</th>\n",
       "    </tr>\n",
       "  </thead>\n",
       "  <tbody>\n",
       "    <tr>\n",
       "      <th>count</th>\n",
       "      <td>424.00</td>\n",
       "      <td>440.00</td>\n",
       "      <td>440.00</td>\n",
       "      <td>440.00</td>\n",
       "      <td>...</td>\n",
       "      <td>480.00</td>\n",
       "      <td>480.00</td>\n",
       "      <td>445.00</td>\n",
       "      <td>441.00</td>\n",
       "    </tr>\n",
       "    <tr>\n",
       "      <th>mean</th>\n",
       "      <td>41,263.66</td>\n",
       "      <td>41,015.07</td>\n",
       "      <td>41,553.36</td>\n",
       "      <td>42,473.02</td>\n",
       "      <td>...</td>\n",
       "      <td>45,802.22</td>\n",
       "      <td>46,243.67</td>\n",
       "      <td>47,489.09</td>\n",
       "      <td>48,032.67</td>\n",
       "    </tr>\n",
       "    <tr>\n",
       "      <th>std</th>\n",
       "      <td>11,877.96</td>\n",
       "      <td>12,536.52</td>\n",
       "      <td>12,456.58</td>\n",
       "      <td>12,621.90</td>\n",
       "      <td>...</td>\n",
       "      <td>14,948.68</td>\n",
       "      <td>14,938.55</td>\n",
       "      <td>15,463.80</td>\n",
       "      <td>15,719.73</td>\n",
       "    </tr>\n",
       "    <tr>\n",
       "      <th>min</th>\n",
       "      <td>10,988.00</td>\n",
       "      <td>11,435.00</td>\n",
       "      <td>11,969.00</td>\n",
       "      <td>12,777.00</td>\n",
       "      <td>...</td>\n",
       "      <td>2,761.00</td>\n",
       "      <td>2,796.00</td>\n",
       "      <td>2,745.00</td>\n",
       "      <td>2,832.00</td>\n",
       "    </tr>\n",
       "    <tr>\n",
       "      <th>25%</th>\n",
       "      <td>33,139.25</td>\n",
       "      <td>32,636.00</td>\n",
       "      <td>33,284.75</td>\n",
       "      <td>33,864.50</td>\n",
       "      <td>...</td>\n",
       "      <td>36,128.50</td>\n",
       "      <td>36,584.75</td>\n",
       "      <td>37,316.00</td>\n",
       "      <td>37,908.00</td>\n",
       "    </tr>\n",
       "    <tr>\n",
       "      <th>50%</th>\n",
       "      <td>39,543.50</td>\n",
       "      <td>39,683.50</td>\n",
       "      <td>40,390.50</td>\n",
       "      <td>41,200.50</td>\n",
       "      <td>...</td>\n",
       "      <td>43,237.50</td>\n",
       "      <td>43,931.50</td>\n",
       "      <td>45,385.00</td>\n",
       "      <td>46,057.00</td>\n",
       "    </tr>\n",
       "    <tr>\n",
       "      <th>75%</th>\n",
       "      <td>47,971.75</td>\n",
       "      <td>48,611.00</td>\n",
       "      <td>49,354.75</td>\n",
       "      <td>50,468.25</td>\n",
       "      <td>...</td>\n",
       "      <td>54,134.25</td>\n",
       "      <td>54,449.75</td>\n",
       "      <td>56,023.00</td>\n",
       "      <td>56,638.00</td>\n",
       "    </tr>\n",
       "    <tr>\n",
       "      <th>max</th>\n",
       "      <td>91,488.00</td>\n",
       "      <td>93,566.00</td>\n",
       "      <td>98,123.00</td>\n",
       "      <td>96,242.00</td>\n",
       "      <td>...</td>\n",
       "      <td>121,623.00</td>\n",
       "      <td>117,879.00</td>\n",
       "      <td>122,242.00</td>\n",
       "      <td>127,468.00</td>\n",
       "    </tr>\n",
       "  </tbody>\n",
       "</table>\n",
       "<p>8 rows × 18 columns</p>\n",
       "</div>"
      ],
      "text/plain": [
       "       pcGDP2001  pcGDP2002  pcGDP2003  pcGDP2004  ...  pcGDP2015  pcGDP2016  \\\n",
       "count     424.00     440.00     440.00     440.00  ...     480.00     480.00   \n",
       "mean   41,263.66  41,015.07  41,553.36  42,473.02  ...  45,802.22  46,243.67   \n",
       "std    11,877.96  12,536.52  12,456.58  12,621.90  ...  14,948.68  14,938.55   \n",
       "min    10,988.00  11,435.00  11,969.00  12,777.00  ...   2,761.00   2,796.00   \n",
       "25%    33,139.25  32,636.00  33,284.75  33,864.50  ...  36,128.50  36,584.75   \n",
       "50%    39,543.50  39,683.50  40,390.50  41,200.50  ...  43,237.50  43,931.50   \n",
       "75%    47,971.75  48,611.00  49,354.75  50,468.25  ...  54,134.25  54,449.75   \n",
       "max    91,488.00  93,566.00  98,123.00  96,242.00  ... 121,623.00 117,879.00   \n",
       "\n",
       "       pcGDP2017  pcGDP2018  \n",
       "count     445.00     441.00  \n",
       "mean   47,489.09  48,032.67  \n",
       "std    15,463.80  15,719.73  \n",
       "min     2,745.00   2,832.00  \n",
       "25%    37,316.00  37,908.00  \n",
       "50%    45,385.00  46,057.00  \n",
       "75%    56,023.00  56,638.00  \n",
       "max   122,242.00 127,468.00  \n",
       "\n",
       "[8 rows x 18 columns]"
      ]
     },
     "execution_count": 28,
     "metadata": {},
     "output_type": "execute_result"
    }
   ],
   "source": [
    "percapitaGDP.describe()"
   ]
  },
  {
   "cell_type": "code",
   "execution_count": 29,
   "metadata": {},
   "outputs": [
    {
     "data": {
      "text/html": [
       "<div>\n",
       "<style scoped>\n",
       "    .dataframe tbody tr th:only-of-type {\n",
       "        vertical-align: middle;\n",
       "    }\n",
       "\n",
       "    .dataframe tbody tr th {\n",
       "        vertical-align: top;\n",
       "    }\n",
       "\n",
       "    .dataframe thead th {\n",
       "        text-align: right;\n",
       "    }\n",
       "</style>\n",
       "<table border=\"1\" class=\"dataframe\">\n",
       "  <thead>\n",
       "    <tr style=\"text-align: right;\">\n",
       "      <th></th>\n",
       "      <th>pcGDP2001</th>\n",
       "      <th>pcGDP2002</th>\n",
       "      <th>pcGDP2003</th>\n",
       "      <th>pcGDP2004</th>\n",
       "      <th>...</th>\n",
       "      <th>pcGDP2015</th>\n",
       "      <th>pcGDP2016</th>\n",
       "      <th>pcGDP2017</th>\n",
       "      <th>pcGDP2018</th>\n",
       "    </tr>\n",
       "  </thead>\n",
       "  <tbody>\n",
       "    <tr>\n",
       "      <th>count</th>\n",
       "      <td>424.00</td>\n",
       "      <td>440.00</td>\n",
       "      <td>440.00</td>\n",
       "      <td>440.00</td>\n",
       "      <td>...</td>\n",
       "      <td>480.00</td>\n",
       "      <td>480.00</td>\n",
       "      <td>445.00</td>\n",
       "      <td>441.00</td>\n",
       "    </tr>\n",
       "    <tr>\n",
       "      <th>mean</th>\n",
       "      <td>41,263.66</td>\n",
       "      <td>41,015.07</td>\n",
       "      <td>41,553.36</td>\n",
       "      <td>42,473.02</td>\n",
       "      <td>...</td>\n",
       "      <td>45,802.22</td>\n",
       "      <td>46,243.67</td>\n",
       "      <td>47,489.09</td>\n",
       "      <td>48,032.67</td>\n",
       "    </tr>\n",
       "    <tr>\n",
       "      <th>std</th>\n",
       "      <td>11,877.96</td>\n",
       "      <td>12,536.52</td>\n",
       "      <td>12,456.58</td>\n",
       "      <td>12,621.90</td>\n",
       "      <td>...</td>\n",
       "      <td>14,948.68</td>\n",
       "      <td>14,938.55</td>\n",
       "      <td>15,463.80</td>\n",
       "      <td>15,719.73</td>\n",
       "    </tr>\n",
       "    <tr>\n",
       "      <th>min</th>\n",
       "      <td>10,988.00</td>\n",
       "      <td>11,435.00</td>\n",
       "      <td>11,969.00</td>\n",
       "      <td>12,777.00</td>\n",
       "      <td>...</td>\n",
       "      <td>2,761.00</td>\n",
       "      <td>2,796.00</td>\n",
       "      <td>2,745.00</td>\n",
       "      <td>2,832.00</td>\n",
       "    </tr>\n",
       "    <tr>\n",
       "      <th>25%</th>\n",
       "      <td>33,139.25</td>\n",
       "      <td>32,636.00</td>\n",
       "      <td>33,284.75</td>\n",
       "      <td>33,864.50</td>\n",
       "      <td>...</td>\n",
       "      <td>36,128.50</td>\n",
       "      <td>36,584.75</td>\n",
       "      <td>37,316.00</td>\n",
       "      <td>37,908.00</td>\n",
       "    </tr>\n",
       "    <tr>\n",
       "      <th>50%</th>\n",
       "      <td>39,543.50</td>\n",
       "      <td>39,683.50</td>\n",
       "      <td>40,390.50</td>\n",
       "      <td>41,200.50</td>\n",
       "      <td>...</td>\n",
       "      <td>43,237.50</td>\n",
       "      <td>43,931.50</td>\n",
       "      <td>45,385.00</td>\n",
       "      <td>46,057.00</td>\n",
       "    </tr>\n",
       "    <tr>\n",
       "      <th>75%</th>\n",
       "      <td>47,971.75</td>\n",
       "      <td>48,611.00</td>\n",
       "      <td>49,354.75</td>\n",
       "      <td>50,468.25</td>\n",
       "      <td>...</td>\n",
       "      <td>54,134.25</td>\n",
       "      <td>54,449.75</td>\n",
       "      <td>56,023.00</td>\n",
       "      <td>56,638.00</td>\n",
       "    </tr>\n",
       "    <tr>\n",
       "      <th>max</th>\n",
       "      <td>91,488.00</td>\n",
       "      <td>93,566.00</td>\n",
       "      <td>98,123.00</td>\n",
       "      <td>96,242.00</td>\n",
       "      <td>...</td>\n",
       "      <td>121,623.00</td>\n",
       "      <td>117,879.00</td>\n",
       "      <td>122,242.00</td>\n",
       "      <td>127,468.00</td>\n",
       "    </tr>\n",
       "  </tbody>\n",
       "</table>\n",
       "<p>8 rows × 18 columns</p>\n",
       "</div>"
      ],
      "text/plain": [
       "       pcGDP2001  pcGDP2002  pcGDP2003  pcGDP2004  ...  pcGDP2015  pcGDP2016  \\\n",
       "count     424.00     440.00     440.00     440.00  ...     480.00     480.00   \n",
       "mean   41,263.66  41,015.07  41,553.36  42,473.02  ...  45,802.22  46,243.67   \n",
       "std    11,877.96  12,536.52  12,456.58  12,621.90  ...  14,948.68  14,938.55   \n",
       "min    10,988.00  11,435.00  11,969.00  12,777.00  ...   2,761.00   2,796.00   \n",
       "25%    33,139.25  32,636.00  33,284.75  33,864.50  ...  36,128.50  36,584.75   \n",
       "50%    39,543.50  39,683.50  40,390.50  41,200.50  ...  43,237.50  43,931.50   \n",
       "75%    47,971.75  48,611.00  49,354.75  50,468.25  ...  54,134.25  54,449.75   \n",
       "max    91,488.00  93,566.00  98,123.00  96,242.00  ... 121,623.00 117,879.00   \n",
       "\n",
       "       pcGDP2017  pcGDP2018  \n",
       "count     445.00     441.00  \n",
       "mean   47,489.09  48,032.67  \n",
       "std    15,463.80  15,719.73  \n",
       "min     2,745.00   2,832.00  \n",
       "25%    37,316.00  37,908.00  \n",
       "50%    45,385.00  46,057.00  \n",
       "75%    56,023.00  56,638.00  \n",
       "max   122,242.00 127,468.00  \n",
       "\n",
       "[8 rows x 18 columns]"
      ]
     },
     "execution_count": 29,
     "metadata": {},
     "output_type": "execute_result"
    }
   ],
   "source": [
    "percapitaGDP.dropna(subset=percapitaGDP.columns[1:], how=\"all\", inplace=True)\n",
    "percapitaGDP.describe()"
   ]
  },
  {
   "cell_type": "code",
   "execution_count": 30,
   "metadata": {},
   "outputs": [
    {
     "data": {
      "text/html": [
       "<div>\n",
       "<style scoped>\n",
       "    .dataframe tbody tr th:only-of-type {\n",
       "        vertical-align: middle;\n",
       "    }\n",
       "\n",
       "    .dataframe tbody tr th {\n",
       "        vertical-align: top;\n",
       "    }\n",
       "\n",
       "    .dataframe thead th {\n",
       "        text-align: right;\n",
       "    }\n",
       "</style>\n",
       "<table border=\"1\" class=\"dataframe\">\n",
       "  <thead>\n",
       "    <tr style=\"text-align: right;\">\n",
       "      <th></th>\n",
       "      <th>metro</th>\n",
       "      <th>pcGDP2001</th>\n",
       "      <th>pcGDP2002</th>\n",
       "      <th>pcGDP2003</th>\n",
       "      <th>...</th>\n",
       "      <th>pcGDP2015</th>\n",
       "      <th>pcGDP2016</th>\n",
       "      <th>pcGDP2017</th>\n",
       "      <th>pcGDP2018</th>\n",
       "    </tr>\n",
       "  </thead>\n",
       "  <tbody>\n",
       "    <tr>\n",
       "      <th>2</th>\n",
       "      <td>AUS01: Greater Sydney</td>\n",
       "      <td>43,313.00</td>\n",
       "      <td>44,008.00</td>\n",
       "      <td>45,424.00</td>\n",
       "      <td>...</td>\n",
       "      <td>50,075.00</td>\n",
       "      <td>50,519.00</td>\n",
       "      <td>50,578.00</td>\n",
       "      <td>49,860.00</td>\n",
       "    </tr>\n",
       "    <tr>\n",
       "      <th>3</th>\n",
       "      <td>AUS02: Greater Melbourne</td>\n",
       "      <td>40,125.00</td>\n",
       "      <td>40,894.00</td>\n",
       "      <td>41,602.00</td>\n",
       "      <td>...</td>\n",
       "      <td>42,928.00</td>\n",
       "      <td>42,671.00</td>\n",
       "      <td>43,025.00</td>\n",
       "      <td>42,674.00</td>\n",
       "    </tr>\n",
       "    <tr>\n",
       "      <th>4</th>\n",
       "      <td>AUS03: Greater Brisbane</td>\n",
       "      <td>37,580.00</td>\n",
       "      <td>37,564.00</td>\n",
       "      <td>39,080.00</td>\n",
       "      <td>...</td>\n",
       "      <td>44,388.00</td>\n",
       "      <td>45,723.00</td>\n",
       "      <td>46,876.00</td>\n",
       "      <td>46,640.00</td>\n",
       "    </tr>\n",
       "    <tr>\n",
       "      <th>5</th>\n",
       "      <td>AUS04: Greater Perth</td>\n",
       "      <td>45,713.00</td>\n",
       "      <td>47,371.00</td>\n",
       "      <td>48,719.00</td>\n",
       "      <td>...</td>\n",
       "      <td>66,544.00</td>\n",
       "      <td>66,032.00</td>\n",
       "      <td>66,424.00</td>\n",
       "      <td>70,390.00</td>\n",
       "    </tr>\n",
       "    <tr>\n",
       "      <th>6</th>\n",
       "      <td>AUS05: Greater Adelaide</td>\n",
       "      <td>36,505.00</td>\n",
       "      <td>37,194.00</td>\n",
       "      <td>37,634.00</td>\n",
       "      <td>...</td>\n",
       "      <td>40,295.00</td>\n",
       "      <td>39,737.00</td>\n",
       "      <td>40,115.00</td>\n",
       "      <td>39,924.00</td>\n",
       "    </tr>\n",
       "  </tbody>\n",
       "</table>\n",
       "<p>5 rows × 19 columns</p>\n",
       "</div>"
      ],
      "text/plain": [
       "                      metro  pcGDP2001  pcGDP2002  pcGDP2003  ...  pcGDP2015  \\\n",
       "2     AUS01: Greater Sydney  43,313.00  44,008.00  45,424.00  ...  50,075.00   \n",
       "3  AUS02: Greater Melbourne  40,125.00  40,894.00  41,602.00  ...  42,928.00   \n",
       "4   AUS03: Greater Brisbane  37,580.00  37,564.00  39,080.00  ...  44,388.00   \n",
       "5      AUS04: Greater Perth  45,713.00  47,371.00  48,719.00  ...  66,544.00   \n",
       "6   AUS05: Greater Adelaide  36,505.00  37,194.00  37,634.00  ...  40,295.00   \n",
       "\n",
       "   pcGDP2016  pcGDP2017  pcGDP2018  \n",
       "2  50,519.00  50,578.00  49,860.00  \n",
       "3  42,671.00  43,025.00  42,674.00  \n",
       "4  45,723.00  46,876.00  46,640.00  \n",
       "5  66,032.00  66,424.00  70,390.00  \n",
       "6  39,737.00  40,115.00  39,924.00  \n",
       "\n",
       "[5 rows x 19 columns]"
      ]
     },
     "execution_count": 30,
     "metadata": {},
     "output_type": "execute_result"
    }
   ],
   "source": [
    "percapitaGDP.head()"
   ]
  },
  {
   "cell_type": "code",
   "execution_count": 31,
   "metadata": {},
   "outputs": [
    {
     "data": {
      "text/plain": [
       "480"
      ]
     },
     "execution_count": 31,
     "metadata": {},
     "output_type": "execute_result"
    }
   ],
   "source": [
    "percapitaGDP.metro.count()"
   ]
  },
  {
   "cell_type": "code",
   "execution_count": 32,
   "metadata": {},
   "outputs": [
    {
     "data": {
      "text/plain": [
       "480"
      ]
     },
     "execution_count": 32,
     "metadata": {},
     "output_type": "execute_result"
    }
   ],
   "source": [
    "percapitaGDP.metro.nunique()"
   ]
  },
  {
   "cell_type": "code",
   "execution_count": 33,
   "metadata": {},
   "outputs": [],
   "source": [
    "percapitaGDP.set_index('metro', inplace=True)"
   ]
  },
  {
   "cell_type": "code",
   "execution_count": 34,
   "metadata": {},
   "outputs": [
    {
     "data": {
      "text/html": [
       "<div>\n",
       "<style scoped>\n",
       "    .dataframe tbody tr th:only-of-type {\n",
       "        vertical-align: middle;\n",
       "    }\n",
       "\n",
       "    .dataframe tbody tr th {\n",
       "        vertical-align: top;\n",
       "    }\n",
       "\n",
       "    .dataframe thead th {\n",
       "        text-align: right;\n",
       "    }\n",
       "</style>\n",
       "<table border=\"1\" class=\"dataframe\">\n",
       "  <thead>\n",
       "    <tr style=\"text-align: right;\">\n",
       "      <th></th>\n",
       "      <th>pcGDP2001</th>\n",
       "      <th>pcGDP2002</th>\n",
       "      <th>pcGDP2003</th>\n",
       "      <th>pcGDP2004</th>\n",
       "      <th>...</th>\n",
       "      <th>pcGDP2015</th>\n",
       "      <th>pcGDP2016</th>\n",
       "      <th>pcGDP2017</th>\n",
       "      <th>pcGDP2018</th>\n",
       "    </tr>\n",
       "    <tr>\n",
       "      <th>metro</th>\n",
       "      <th></th>\n",
       "      <th></th>\n",
       "      <th></th>\n",
       "      <th></th>\n",
       "      <th></th>\n",
       "      <th></th>\n",
       "      <th></th>\n",
       "      <th></th>\n",
       "      <th></th>\n",
       "    </tr>\n",
       "  </thead>\n",
       "  <tbody>\n",
       "    <tr>\n",
       "      <th>AUS01: Greater Sydney</th>\n",
       "      <td>43,313.00</td>\n",
       "      <td>44,008.00</td>\n",
       "      <td>45,424.00</td>\n",
       "      <td>45,837.00</td>\n",
       "      <td>...</td>\n",
       "      <td>50,075.00</td>\n",
       "      <td>50,519.00</td>\n",
       "      <td>50,578.00</td>\n",
       "      <td>49,860.00</td>\n",
       "    </tr>\n",
       "    <tr>\n",
       "      <th>AUS02: Greater Melbourne</th>\n",
       "      <td>40,125.00</td>\n",
       "      <td>40,894.00</td>\n",
       "      <td>41,602.00</td>\n",
       "      <td>42,188.00</td>\n",
       "      <td>...</td>\n",
       "      <td>42,928.00</td>\n",
       "      <td>42,671.00</td>\n",
       "      <td>43,025.00</td>\n",
       "      <td>42,674.00</td>\n",
       "    </tr>\n",
       "    <tr>\n",
       "      <th>AUS03: Greater Brisbane</th>\n",
       "      <td>37,580.00</td>\n",
       "      <td>37,564.00</td>\n",
       "      <td>39,080.00</td>\n",
       "      <td>40,762.00</td>\n",
       "      <td>...</td>\n",
       "      <td>44,388.00</td>\n",
       "      <td>45,723.00</td>\n",
       "      <td>46,876.00</td>\n",
       "      <td>46,640.00</td>\n",
       "    </tr>\n",
       "    <tr>\n",
       "      <th>AUS04: Greater Perth</th>\n",
       "      <td>45,713.00</td>\n",
       "      <td>47,371.00</td>\n",
       "      <td>48,719.00</td>\n",
       "      <td>51,020.00</td>\n",
       "      <td>...</td>\n",
       "      <td>66,544.00</td>\n",
       "      <td>66,032.00</td>\n",
       "      <td>66,424.00</td>\n",
       "      <td>70,390.00</td>\n",
       "    </tr>\n",
       "    <tr>\n",
       "      <th>AUS05: Greater Adelaide</th>\n",
       "      <td>36,505.00</td>\n",
       "      <td>37,194.00</td>\n",
       "      <td>37,634.00</td>\n",
       "      <td>37,399.00</td>\n",
       "      <td>...</td>\n",
       "      <td>40,295.00</td>\n",
       "      <td>39,737.00</td>\n",
       "      <td>40,115.00</td>\n",
       "      <td>39,924.00</td>\n",
       "    </tr>\n",
       "  </tbody>\n",
       "</table>\n",
       "<p>5 rows × 18 columns</p>\n",
       "</div>"
      ],
      "text/plain": [
       "                          pcGDP2001  pcGDP2002  pcGDP2003  pcGDP2004  ...  \\\n",
       "metro                                                                 ...   \n",
       "AUS01: Greater Sydney     43,313.00  44,008.00  45,424.00  45,837.00  ...   \n",
       "AUS02: Greater Melbourne  40,125.00  40,894.00  41,602.00  42,188.00  ...   \n",
       "AUS03: Greater Brisbane   37,580.00  37,564.00  39,080.00  40,762.00  ...   \n",
       "AUS04: Greater Perth      45,713.00  47,371.00  48,719.00  51,020.00  ...   \n",
       "AUS05: Greater Adelaide   36,505.00  37,194.00  37,634.00  37,399.00  ...   \n",
       "\n",
       "                          pcGDP2015  pcGDP2016  pcGDP2017  pcGDP2018  \n",
       "metro                                                                 \n",
       "AUS01: Greater Sydney     50,075.00  50,519.00  50,578.00  49,860.00  \n",
       "AUS02: Greater Melbourne  42,928.00  42,671.00  43,025.00  42,674.00  \n",
       "AUS03: Greater Brisbane   44,388.00  45,723.00  46,876.00  46,640.00  \n",
       "AUS04: Greater Perth      66,544.00  66,032.00  66,424.00  70,390.00  \n",
       "AUS05: Greater Adelaide   40,295.00  39,737.00  40,115.00  39,924.00  \n",
       "\n",
       "[5 rows x 18 columns]"
      ]
     },
     "execution_count": 34,
     "metadata": {},
     "output_type": "execute_result"
    }
   ],
   "source": [
    "percapitaGDP.head()"
   ]
  },
  {
   "cell_type": "code",
   "execution_count": 35,
   "metadata": {},
   "outputs": [
    {
     "data": {
      "text/plain": [
       "pcGDP2001   40,125.00\n",
       "pcGDP2002   40,894.00\n",
       "pcGDP2003   41,602.00\n",
       "pcGDP2004   42,188.00\n",
       "pcGDP2005   41,484.00\n",
       "pcGDP2006   41,589.00\n",
       "pcGDP2007   42,316.00\n",
       "pcGDP2008   40,975.00\n",
       "pcGDP2009   41,384.00\n",
       "pcGDP2010   40,943.00\n",
       "pcGDP2011   41,165.00\n",
       "pcGDP2012   41,264.00\n",
       "pcGDP2013   41,157.00\n",
       "pcGDP2014   42,114.00\n",
       "pcGDP2015   42,928.00\n",
       "pcGDP2016   42,671.00\n",
       "pcGDP2017   43,025.00\n",
       "pcGDP2018   42,674.00\n",
       "Name: AUS02: Greater Melbourne, dtype: float64"
      ]
     },
     "execution_count": 35,
     "metadata": {},
     "output_type": "execute_result"
    }
   ],
   "source": [
    "percapitaGDP.loc['AUS02: Greater Melbourne']"
   ]
  },
  {
   "cell_type": "code",
   "execution_count": 36,
   "metadata": {},
   "outputs": [
    {
     "data": {
      "text/plain": [
       "(480, 18)"
      ]
     },
     "execution_count": 36,
     "metadata": {},
     "output_type": "execute_result"
    }
   ],
   "source": [
    "percapitaGDP.shape"
   ]
  },
  {
   "cell_type": "code",
   "execution_count": 37,
   "metadata": {},
   "outputs": [],
   "source": [
    "#############################################################"
   ]
  },
  {
   "cell_type": "code",
   "execution_count": 11,
   "metadata": {},
   "outputs": [
    {
     "name": "stdout",
     "output_type": "stream",
     "text": [
      "Collecting pyreadstat\n",
      "  Downloading pyreadstat-1.1.4-cp310-cp310-win_amd64.whl (1.3 MB)\n",
      "Requirement already satisfied: pandas>=1.2.0 in c:\\users\\mikol\\appdata\\local\\programs\\python\\python310\\lib\\site-packages (from pyreadstat) (1.3.5)\n",
      "Requirement already satisfied: pytz>=2017.3 in c:\\users\\mikol\\appdata\\local\\programs\\python\\python310\\lib\\site-packages (from pandas>=1.2.0->pyreadstat) (2021.3)\n",
      "Requirement already satisfied: numpy>=1.21.0 in c:\\users\\mikol\\appdata\\local\\programs\\python\\python310\\lib\\site-packages (from pandas>=1.2.0->pyreadstat) (1.21.4)\n",
      "Requirement already satisfied: python-dateutil>=2.7.3 in c:\\users\\mikol\\appdata\\local\\programs\\python\\python310\\lib\\site-packages (from pandas>=1.2.0->pyreadstat) (2.8.2)\n",
      "Requirement already satisfied: six>=1.5 in c:\\users\\mikol\\appdata\\local\\programs\\python\\python310\\lib\\site-packages (from python-dateutil>=2.7.3->pandas>=1.2.0->pyreadstat) (1.16.0)\n",
      "Installing collected packages: pyreadstat\n",
      "Successfully installed pyreadstat-1.1.4\n",
      "Note: you may need to restart the kernel to use updated packages.\n"
     ]
    }
   ],
   "source": [
    "pip install pyreadstat"
   ]
  },
  {
   "cell_type": "code",
   "execution_count": 12,
   "metadata": {},
   "outputs": [],
   "source": [
    "import pandas as pd\n",
    "import numpy as np\n",
    "import pyreadstat"
   ]
  },
  {
   "cell_type": "code",
   "execution_count": 13,
   "metadata": {},
   "outputs": [
    {
     "data": {
      "text/plain": [
       "R0000100    float64\n",
       "R0536300    float64\n",
       "R0536401    float64\n",
       "R0536402    float64\n",
       "R1235800    float64\n",
       "R1482600    float64\n",
       "R9793800    float64\n",
       "R9793900    float64\n",
       "R9871900    float64\n",
       "R9872000    float64\n",
       "R9872200    float64\n",
       "R9872400    float64\n",
       "S8646900    float64\n",
       "S8647000    float64\n",
       "S8647100    float64\n",
       "S8647200    float64\n",
       "S8647300    float64\n",
       "S8647400    float64\n",
       "S8647500    float64\n",
       "S8647600    float64\n",
       "S8647700    float64\n",
       "S8647800    float64\n",
       "T6651700    float64\n",
       "U1836800    float64\n",
       "U1836900    float64\n",
       "U1837000    float64\n",
       "U1837100    float64\n",
       "U1837200    float64\n",
       "U1837300    float64\n",
       "U1845400    float64\n",
       "U1852400    float64\n",
       "U1852600    float64\n",
       "U1852700    float64\n",
       "U2166200    float64\n",
       "U2166300    float64\n",
       "U2166400    float64\n",
       "U2166500    float64\n",
       "U2857300    float64\n",
       "U2962800    float64\n",
       "U2962900    float64\n",
       "U2963000    float64\n",
       "Z9063900    float64\n",
       "dtype: object"
      ]
     },
     "execution_count": 13,
     "metadata": {},
     "output_type": "execute_result"
    }
   ],
   "source": [
    "nls97spss, metaspss = pyreadstat.read_sav('data/nls97.sav')\n",
    "nls97spss.dtypes"
   ]
  },
  {
   "cell_type": "code",
   "execution_count": 14,
   "metadata": {},
   "outputs": [
    {
     "data": {
      "text/html": [
       "<div>\n",
       "<style scoped>\n",
       "    .dataframe tbody tr th:only-of-type {\n",
       "        vertical-align: middle;\n",
       "    }\n",
       "\n",
       "    .dataframe tbody tr th {\n",
       "        vertical-align: top;\n",
       "    }\n",
       "\n",
       "    .dataframe thead th {\n",
       "        text-align: right;\n",
       "    }\n",
       "</style>\n",
       "<table border=\"1\" class=\"dataframe\">\n",
       "  <thead>\n",
       "    <tr style=\"text-align: right;\">\n",
       "      <th></th>\n",
       "      <th>R0000100</th>\n",
       "      <th>R0536300</th>\n",
       "      <th>R0536401</th>\n",
       "      <th>R0536402</th>\n",
       "      <th>R1235800</th>\n",
       "      <th>R1482600</th>\n",
       "      <th>R9793800</th>\n",
       "      <th>R9793900</th>\n",
       "      <th>R9871900</th>\n",
       "      <th>R9872000</th>\n",
       "      <th>...</th>\n",
       "      <th>U1852700</th>\n",
       "      <th>U2166200</th>\n",
       "      <th>U2166300</th>\n",
       "      <th>U2166400</th>\n",
       "      <th>U2166500</th>\n",
       "      <th>U2857300</th>\n",
       "      <th>U2962800</th>\n",
       "      <th>U2962900</th>\n",
       "      <th>U2963000</th>\n",
       "      <th>Z9063900</th>\n",
       "    </tr>\n",
       "  </thead>\n",
       "  <tbody>\n",
       "    <tr>\n",
       "      <th>0</th>\n",
       "      <td>1.0</td>\n",
       "      <td>2.0</td>\n",
       "      <td>9.0</td>\n",
       "      <td>1981.0</td>\n",
       "      <td>1.0</td>\n",
       "      <td>4.0</td>\n",
       "      <td>350.0</td>\n",
       "      <td>470.0</td>\n",
       "      <td>309.0</td>\n",
       "      <td>310.0</td>\n",
       "      <td>...</td>\n",
       "      <td>NaN</td>\n",
       "      <td>NaN</td>\n",
       "      <td>NaN</td>\n",
       "      <td>NaN</td>\n",
       "      <td>NaN</td>\n",
       "      <td>NaN</td>\n",
       "      <td>NaN</td>\n",
       "      <td>NaN</td>\n",
       "      <td>NaN</td>\n",
       "      <td>52.0</td>\n",
       "    </tr>\n",
       "    <tr>\n",
       "      <th>1</th>\n",
       "      <td>2.0</td>\n",
       "      <td>1.0</td>\n",
       "      <td>7.0</td>\n",
       "      <td>1982.0</td>\n",
       "      <td>1.0</td>\n",
       "      <td>2.0</td>\n",
       "      <td>460.0</td>\n",
       "      <td>440.0</td>\n",
       "      <td>217.0</td>\n",
       "      <td>280.0</td>\n",
       "      <td>...</td>\n",
       "      <td>NaN</td>\n",
       "      <td>NaN</td>\n",
       "      <td>NaN</td>\n",
       "      <td>NaN</td>\n",
       "      <td>NaN</td>\n",
       "      <td>NaN</td>\n",
       "      <td>4.0</td>\n",
       "      <td>2.0</td>\n",
       "      <td>6.0</td>\n",
       "      <td>0.0</td>\n",
       "    </tr>\n",
       "    <tr>\n",
       "      <th>2</th>\n",
       "      <td>3.0</td>\n",
       "      <td>2.0</td>\n",
       "      <td>9.0</td>\n",
       "      <td>1983.0</td>\n",
       "      <td>1.0</td>\n",
       "      <td>2.0</td>\n",
       "      <td>NaN</td>\n",
       "      <td>NaN</td>\n",
       "      <td>NaN</td>\n",
       "      <td>NaN</td>\n",
       "      <td>...</td>\n",
       "      <td>0.0</td>\n",
       "      <td>NaN</td>\n",
       "      <td>NaN</td>\n",
       "      <td>NaN</td>\n",
       "      <td>NaN</td>\n",
       "      <td>NaN</td>\n",
       "      <td>6.0</td>\n",
       "      <td>2.0</td>\n",
       "      <td>6.0</td>\n",
       "      <td>0.0</td>\n",
       "    </tr>\n",
       "    <tr>\n",
       "      <th>3</th>\n",
       "      <td>4.0</td>\n",
       "      <td>2.0</td>\n",
       "      <td>2.0</td>\n",
       "      <td>1981.0</td>\n",
       "      <td>1.0</td>\n",
       "      <td>2.0</td>\n",
       "      <td>NaN</td>\n",
       "      <td>NaN</td>\n",
       "      <td>253.0</td>\n",
       "      <td>216.0</td>\n",
       "      <td>...</td>\n",
       "      <td>1.0</td>\n",
       "      <td>NaN</td>\n",
       "      <td>NaN</td>\n",
       "      <td>NaN</td>\n",
       "      <td>NaN</td>\n",
       "      <td>NaN</td>\n",
       "      <td>3.0</td>\n",
       "      <td>2.0</td>\n",
       "      <td>6.0</td>\n",
       "      <td>4.0</td>\n",
       "    </tr>\n",
       "    <tr>\n",
       "      <th>4</th>\n",
       "      <td>5.0</td>\n",
       "      <td>1.0</td>\n",
       "      <td>10.0</td>\n",
       "      <td>1982.0</td>\n",
       "      <td>1.0</td>\n",
       "      <td>2.0</td>\n",
       "      <td>NaN</td>\n",
       "      <td>NaN</td>\n",
       "      <td>243.0</td>\n",
       "      <td>235.0</td>\n",
       "      <td>...</td>\n",
       "      <td>0.0</td>\n",
       "      <td>NaN</td>\n",
       "      <td>NaN</td>\n",
       "      <td>NaN</td>\n",
       "      <td>NaN</td>\n",
       "      <td>NaN</td>\n",
       "      <td>2.0</td>\n",
       "      <td>2.0</td>\n",
       "      <td>5.0</td>\n",
       "      <td>12.0</td>\n",
       "    </tr>\n",
       "  </tbody>\n",
       "</table>\n",
       "<p>5 rows × 42 columns</p>\n",
       "</div>"
      ],
      "text/plain": [
       "   R0000100  R0536300  R0536401  R0536402  R1235800  R1482600  R9793800  \\\n",
       "0       1.0       2.0       9.0    1981.0       1.0       4.0     350.0   \n",
       "1       2.0       1.0       7.0    1982.0       1.0       2.0     460.0   \n",
       "2       3.0       2.0       9.0    1983.0       1.0       2.0       NaN   \n",
       "3       4.0       2.0       2.0    1981.0       1.0       2.0       NaN   \n",
       "4       5.0       1.0      10.0    1982.0       1.0       2.0       NaN   \n",
       "\n",
       "   R9793900  R9871900  R9872000  ...  U1852700  U2166200  U2166300  U2166400  \\\n",
       "0     470.0     309.0     310.0  ...       NaN       NaN       NaN       NaN   \n",
       "1     440.0     217.0     280.0  ...       NaN       NaN       NaN       NaN   \n",
       "2       NaN       NaN       NaN  ...       0.0       NaN       NaN       NaN   \n",
       "3       NaN     253.0     216.0  ...       1.0       NaN       NaN       NaN   \n",
       "4       NaN     243.0     235.0  ...       0.0       NaN       NaN       NaN   \n",
       "\n",
       "   U2166500  U2857300  U2962800  U2962900  U2963000  Z9063900  \n",
       "0       NaN       NaN       NaN       NaN       NaN      52.0  \n",
       "1       NaN       NaN       4.0       2.0       6.0       0.0  \n",
       "2       NaN       NaN       6.0       2.0       6.0       0.0  \n",
       "3       NaN       NaN       3.0       2.0       6.0       4.0  \n",
       "4       NaN       NaN       2.0       2.0       5.0      12.0  \n",
       "\n",
       "[5 rows x 42 columns]"
      ]
     },
     "execution_count": 14,
     "metadata": {},
     "output_type": "execute_result"
    }
   ],
   "source": [
    "nls97spss.head()"
   ]
  },
  {
   "cell_type": "code",
   "execution_count": 15,
   "metadata": {},
   "outputs": [
    {
     "data": {
      "text/plain": [
       "1.0    0.51191\n",
       "2.0    0.48809\n",
       "Name: R0536300, dtype: float64"
      ]
     },
     "execution_count": 15,
     "metadata": {},
     "output_type": "execute_result"
    }
   ],
   "source": [
    "nls97spss['R0536300'].value_counts(normalize=True)"
   ]
  },
  {
   "cell_type": "code",
   "execution_count": 16,
   "metadata": {},
   "outputs": [
    {
     "data": {
      "text/plain": [
       "{0.0: 'No Information', 1.0: 'Male', 2.0: 'Female'}"
      ]
     },
     "execution_count": 16,
     "metadata": {},
     "output_type": "execute_result"
    }
   ],
   "source": [
    "metaspss.variable_value_labels['R0536300']"
   ]
  },
  {
   "cell_type": "code",
   "execution_count": 17,
   "metadata": {},
   "outputs": [
    {
     "data": {
      "text/plain": [
       "Male      0.51191\n",
       "Female    0.48809\n",
       "Name: R0536300, dtype: float64"
      ]
     },
     "execution_count": 17,
     "metadata": {},
     "output_type": "execute_result"
    }
   ],
   "source": [
    "nls97spss['R0536300'].\\\n",
    "  map(metaspss.variable_value_labels['R0536300']).\\\n",
    "  value_counts(normalize=True)"
   ]
  },
  {
   "cell_type": "code",
   "execution_count": 18,
   "metadata": {},
   "outputs": [],
   "source": [
    "nls97spss = pyreadstat.set_value_labels(nls97spss, metaspss, formats_as_category=True)"
   ]
  },
  {
   "cell_type": "code",
   "execution_count": 19,
   "metadata": {},
   "outputs": [
    {
     "data": {
      "text/plain": [
       "Male      0.51191\n",
       "Female    0.48809\n",
       "Name: KEY!SEX (SYMBOL) 1997, dtype: float64"
      ]
     },
     "execution_count": 19,
     "metadata": {},
     "output_type": "execute_result"
    }
   ],
   "source": [
    "nls97spss.columns = metaspss.column_labels\n",
    "nls97spss['KEY!SEX (SYMBOL) 1997'].value_counts(normalize=True)"
   ]
  },
  {
   "cell_type": "code",
   "execution_count": 20,
   "metadata": {},
   "outputs": [
    {
     "data": {
      "text/plain": [
       "PUBID - YTH ID CODE 1997                        float64\n",
       "KEY!SEX (SYMBOL) 1997                          category\n",
       "KEY!BDATE M/Y (SYMBOL) 1997                     float64\n",
       "KEY!BDATE M/Y (SYMBOL) 1997                     float64\n",
       "CV_SAMPLE_TYPE 1997                            category\n",
       "KEY!RACE_ETHNICITY (SYMBOL) 1997               category\n",
       "TRANS_SAT_VERBAL HSTR                           float64\n",
       "TRANS_SAT_MATH HSTR                             float64\n",
       "TRANS CRD GPA OVERALL HSTR                      float64\n",
       "TRANS CRD GPA ENG HSTR                          float64\n",
       "TRANS CRD GPA MATH HSTR                         float64\n",
       "TRANS CRD GPA LP SCI HSTR                       float64\n",
       "GOVT RESPONSIBILITY - PROVIDE JOBS 2006        category\n",
       "GOVT RESPNSBLTY - KEEP PRICES UND CTRL 2006    category\n",
       "GOVT RESPNSBLTY - HLTH CARE FOR SICK 2006      category\n",
       "GOVT RESPNSBLTY -PROV ELD LIV STAND 2006       category\n",
       "GOVT RESPNSBLTY -PROV IND HELP 2006            category\n",
       "GOVT RESPNSBLTY -PROV UNEMP LIV STAND 2006     category\n",
       "GOVT RESPNSBLTY -REDUCE INC DIFF 2006          category\n",
       "GOVT RESPNSBLTY -PROV COLL FIN AID 2006        category\n",
       "GOVT RESPNSBLTY -PROV DECENT HOUSING 2006      category\n",
       "GOVT RESPNSBLTY -PROTECT ENVIRONMENT 2006      category\n",
       "CV_BA_CREDITS L1 2011                           float64\n",
       "CV_COLLEGE_TYPE L1 2017                        category\n",
       "CV_COLLEGE_TYPE L2 2017                        category\n",
       "CV_COLLEGE_TYPE L3 2017                        category\n",
       "CV_COLLEGE_TYPE L4 2017                        category\n",
       "CV_COLLEGE_TYPE L5 2017                        category\n",
       "CV_COLLEGE_TYPE L6 2017                        category\n",
       "CV_HGC_EVER 2017                               category\n",
       "CV_MARSTAT_COLLAPSED 2017                      category\n",
       "CV_BIO_CHILD_HH 2017                            float64\n",
       "CV_BIO_CHILD_NR 2017                            float64\n",
       "DIPLOMA/DEGREE RCVD? L1 2017                   category\n",
       "DIPLOMA/DEGREE RCVD? L2 2017                   category\n",
       "DIPLOMA/DEGREE RCVD? L3 2017                   category\n",
       "DIPLOMA/DEGREE RCVD? L4 2017                   category\n",
       "EST INC WAGES, TIPS PAST YR 2017               category\n",
       "HRS/WK R USES A COMPUTER 2017                  category\n",
       "HRS/WK R WATCHES TELEVISION 2017               category\n",
       "HRS/NIGHT R SLEEPS 2017                         float64\n",
       "CVC_WKSWK_YR_ALL L99                            float64\n",
       "dtype: object"
      ]
     },
     "execution_count": 20,
     "metadata": {},
     "output_type": "execute_result"
    }
   ],
   "source": [
    "nls97spss.dtypes"
   ]
  },
  {
   "cell_type": "code",
   "execution_count": 21,
   "metadata": {},
   "outputs": [
    {
     "name": "stderr",
     "output_type": "stream",
     "text": [
      "C:\\Users\\mikol\\AppData\\Local\\Temp/ipykernel_17280/652755672.py:4: FutureWarning: The default value of regex will change from True to False in a future version.\n",
      "  str.replace('[^a-z0-9_]', '')\n"
     ]
    }
   ],
   "source": [
    "nls97spss.columns = nls97spss.columns.\\\n",
    "    str.lower().\\\n",
    "    str.replace(' ','_').\\\n",
    "    str.replace('[^a-z0-9_]', '')"
   ]
  },
  {
   "cell_type": "code",
   "execution_count": 22,
   "metadata": {},
   "outputs": [],
   "source": [
    "nls97spss.set_index('pubid__yth_id_code_1997', inplace=True)"
   ]
  },
  {
   "cell_type": "code",
   "execution_count": 23,
   "metadata": {},
   "outputs": [
    {
     "name": "stderr",
     "output_type": "stream",
     "text": [
      "C:\\Users\\mikol\\AppData\\Local\\Temp/ipykernel_17280/1421645193.py:6: FutureWarning: The default value of regex will change from True to False in a future version.\n",
      "  str.replace('[^a-z0-9_]', '')\n"
     ]
    }
   ],
   "source": [
    "nls97spss, metaspss = pyreadstat.read_sav('data/nls97.sav', apply_value_formats=True, formats_as_category=True)\n",
    "nls97spss.columns = metaspss.column_labels\n",
    "nls97spss.columns = nls97spss.columns.\\\n",
    "  str.lower().\\\n",
    "  str.replace(' ','_').\\\n",
    "  str.replace('[^a-z0-9_]', '')"
   ]
  },
  {
   "cell_type": "code",
   "execution_count": 24,
   "metadata": {},
   "outputs": [
    {
     "data": {
      "text/plain": [
       "pubid__yth_id_code_1997                        float64\n",
       "keysex_symbol_1997                            category\n",
       "keybdate_my_symbol_1997                        float64\n",
       "keybdate_my_symbol_1997                        float64\n",
       "cv_sample_type_1997                           category\n",
       "keyrace_ethnicity_symbol_1997                 category\n",
       "trans_sat_verbal_hstr                          float64\n",
       "trans_sat_math_hstr                            float64\n",
       "trans_crd_gpa_overall_hstr                     float64\n",
       "trans_crd_gpa_eng_hstr                         float64\n",
       "trans_crd_gpa_math_hstr                        float64\n",
       "trans_crd_gpa_lp_sci_hstr                      float64\n",
       "govt_responsibility__provide_jobs_2006        category\n",
       "govt_respnsblty__keep_prices_und_ctrl_2006    category\n",
       "govt_respnsblty__hlth_care_for_sick_2006      category\n",
       "govt_respnsblty_prov_eld_liv_stand_2006       category\n",
       "govt_respnsblty_prov_ind_help_2006            category\n",
       "govt_respnsblty_prov_unemp_liv_stand_2006     category\n",
       "govt_respnsblty_reduce_inc_diff_2006          category\n",
       "govt_respnsblty_prov_coll_fin_aid_2006        category\n",
       "govt_respnsblty_prov_decent_housing_2006      category\n",
       "govt_respnsblty_protect_environment_2006      category\n",
       "cv_ba_credits_l1_2011                          float64\n",
       "cv_college_type_l1_2017                       category\n",
       "cv_college_type_l2_2017                       category\n",
       "cv_college_type_l3_2017                       category\n",
       "cv_college_type_l4_2017                       category\n",
       "cv_college_type_l5_2017                       category\n",
       "cv_college_type_l6_2017                       category\n",
       "cv_hgc_ever_2017                              category\n",
       "cv_marstat_collapsed_2017                     category\n",
       "cv_bio_child_hh_2017                           float64\n",
       "cv_bio_child_nr_2017                           float64\n",
       "diplomadegree_rcvd_l1_2017                    category\n",
       "diplomadegree_rcvd_l2_2017                    category\n",
       "diplomadegree_rcvd_l3_2017                    category\n",
       "diplomadegree_rcvd_l4_2017                    category\n",
       "est_inc_wages_tips_past_yr_2017               category\n",
       "hrswk_r_uses_a_computer_2017                  category\n",
       "hrswk_r_watches_television_2017               category\n",
       "hrsnight_r_sleeps_2017                         float64\n",
       "cvc_wkswk_yr_all_l99                           float64\n",
       "dtype: object"
      ]
     },
     "execution_count": 24,
     "metadata": {},
     "output_type": "execute_result"
    }
   ],
   "source": [
    "nls97spss.dtypes"
   ]
  },
  {
   "cell_type": "code",
   "execution_count": 25,
   "metadata": {},
   "outputs": [
    {
     "data": {
      "text/html": [
       "<div>\n",
       "<style scoped>\n",
       "    .dataframe tbody tr th:only-of-type {\n",
       "        vertical-align: middle;\n",
       "    }\n",
       "\n",
       "    .dataframe tbody tr th {\n",
       "        vertical-align: top;\n",
       "    }\n",
       "\n",
       "    .dataframe thead th {\n",
       "        text-align: right;\n",
       "    }\n",
       "</style>\n",
       "<table border=\"1\" class=\"dataframe\">\n",
       "  <thead>\n",
       "    <tr style=\"text-align: right;\">\n",
       "      <th></th>\n",
       "      <th>pubid__yth_id_code_1997</th>\n",
       "      <th>keysex_symbol_1997</th>\n",
       "      <th>keybdate_my_symbol_1997</th>\n",
       "      <th>keybdate_my_symbol_1997</th>\n",
       "      <th>cv_sample_type_1997</th>\n",
       "      <th>keyrace_ethnicity_symbol_1997</th>\n",
       "      <th>trans_sat_verbal_hstr</th>\n",
       "      <th>trans_sat_math_hstr</th>\n",
       "      <th>trans_crd_gpa_overall_hstr</th>\n",
       "      <th>trans_crd_gpa_eng_hstr</th>\n",
       "      <th>...</th>\n",
       "      <th>cv_bio_child_nr_2017</th>\n",
       "      <th>diplomadegree_rcvd_l1_2017</th>\n",
       "      <th>diplomadegree_rcvd_l2_2017</th>\n",
       "      <th>diplomadegree_rcvd_l3_2017</th>\n",
       "      <th>diplomadegree_rcvd_l4_2017</th>\n",
       "      <th>est_inc_wages_tips_past_yr_2017</th>\n",
       "      <th>hrswk_r_uses_a_computer_2017</th>\n",
       "      <th>hrswk_r_watches_television_2017</th>\n",
       "      <th>hrsnight_r_sleeps_2017</th>\n",
       "      <th>cvc_wkswk_yr_all_l99</th>\n",
       "    </tr>\n",
       "  </thead>\n",
       "  <tbody>\n",
       "    <tr>\n",
       "      <th>0</th>\n",
       "      <td>1.0</td>\n",
       "      <td>Female</td>\n",
       "      <td>9.0</td>\n",
       "      <td>1981.0</td>\n",
       "      <td>Cross-sectional</td>\n",
       "      <td>Non-Black / Non-Hispanic</td>\n",
       "      <td>350.0</td>\n",
       "      <td>470.0</td>\n",
       "      <td>309.0</td>\n",
       "      <td>310.0</td>\n",
       "      <td>...</td>\n",
       "      <td>NaN</td>\n",
       "      <td>NaN</td>\n",
       "      <td>NaN</td>\n",
       "      <td>NaN</td>\n",
       "      <td>NaN</td>\n",
       "      <td>NaN</td>\n",
       "      <td>NaN</td>\n",
       "      <td>NaN</td>\n",
       "      <td>NaN</td>\n",
       "      <td>52.0</td>\n",
       "    </tr>\n",
       "    <tr>\n",
       "      <th>1</th>\n",
       "      <td>2.0</td>\n",
       "      <td>Male</td>\n",
       "      <td>7.0</td>\n",
       "      <td>1982.0</td>\n",
       "      <td>Cross-sectional</td>\n",
       "      <td>Hispanic</td>\n",
       "      <td>460.0</td>\n",
       "      <td>440.0</td>\n",
       "      <td>217.0</td>\n",
       "      <td>280.0</td>\n",
       "      <td>...</td>\n",
       "      <td>NaN</td>\n",
       "      <td>NaN</td>\n",
       "      <td>NaN</td>\n",
       "      <td>NaN</td>\n",
       "      <td>NaN</td>\n",
       "      <td>NaN</td>\n",
       "      <td>4 to 6 hours a week</td>\n",
       "      <td>3 to 10 hours a week</td>\n",
       "      <td>6.0</td>\n",
       "      <td>0.0</td>\n",
       "    </tr>\n",
       "    <tr>\n",
       "      <th>2</th>\n",
       "      <td>3.0</td>\n",
       "      <td>Female</td>\n",
       "      <td>9.0</td>\n",
       "      <td>1983.0</td>\n",
       "      <td>Cross-sectional</td>\n",
       "      <td>Hispanic</td>\n",
       "      <td>NaN</td>\n",
       "      <td>NaN</td>\n",
       "      <td>NaN</td>\n",
       "      <td>NaN</td>\n",
       "      <td>...</td>\n",
       "      <td>0.0</td>\n",
       "      <td>NaN</td>\n",
       "      <td>NaN</td>\n",
       "      <td>NaN</td>\n",
       "      <td>NaN</td>\n",
       "      <td>NaN</td>\n",
       "      <td>10 hours or more a week</td>\n",
       "      <td>3 to 10 hours a week</td>\n",
       "      <td>6.0</td>\n",
       "      <td>0.0</td>\n",
       "    </tr>\n",
       "    <tr>\n",
       "      <th>3</th>\n",
       "      <td>4.0</td>\n",
       "      <td>Female</td>\n",
       "      <td>2.0</td>\n",
       "      <td>1981.0</td>\n",
       "      <td>Cross-sectional</td>\n",
       "      <td>Hispanic</td>\n",
       "      <td>NaN</td>\n",
       "      <td>NaN</td>\n",
       "      <td>253.0</td>\n",
       "      <td>216.0</td>\n",
       "      <td>...</td>\n",
       "      <td>1.0</td>\n",
       "      <td>NaN</td>\n",
       "      <td>NaN</td>\n",
       "      <td>NaN</td>\n",
       "      <td>NaN</td>\n",
       "      <td>NaN</td>\n",
       "      <td>1 to 3 hours a week</td>\n",
       "      <td>3 to 10 hours a week</td>\n",
       "      <td>6.0</td>\n",
       "      <td>4.0</td>\n",
       "    </tr>\n",
       "    <tr>\n",
       "      <th>4</th>\n",
       "      <td>5.0</td>\n",
       "      <td>Male</td>\n",
       "      <td>10.0</td>\n",
       "      <td>1982.0</td>\n",
       "      <td>Cross-sectional</td>\n",
       "      <td>Hispanic</td>\n",
       "      <td>NaN</td>\n",
       "      <td>NaN</td>\n",
       "      <td>243.0</td>\n",
       "      <td>235.0</td>\n",
       "      <td>...</td>\n",
       "      <td>0.0</td>\n",
       "      <td>NaN</td>\n",
       "      <td>NaN</td>\n",
       "      <td>NaN</td>\n",
       "      <td>NaN</td>\n",
       "      <td>NaN</td>\n",
       "      <td>Less than 1 hour a week</td>\n",
       "      <td>3 to 10 hours a week</td>\n",
       "      <td>5.0</td>\n",
       "      <td>12.0</td>\n",
       "    </tr>\n",
       "  </tbody>\n",
       "</table>\n",
       "<p>5 rows × 42 columns</p>\n",
       "</div>"
      ],
      "text/plain": [
       "   pubid__yth_id_code_1997 keysex_symbol_1997  keybdate_my_symbol_1997  \\\n",
       "0                      1.0             Female                      9.0   \n",
       "1                      2.0               Male                      7.0   \n",
       "2                      3.0             Female                      9.0   \n",
       "3                      4.0             Female                      2.0   \n",
       "4                      5.0               Male                     10.0   \n",
       "\n",
       "   keybdate_my_symbol_1997 cv_sample_type_1997 keyrace_ethnicity_symbol_1997  \\\n",
       "0                   1981.0     Cross-sectional      Non-Black / Non-Hispanic   \n",
       "1                   1982.0     Cross-sectional                      Hispanic   \n",
       "2                   1983.0     Cross-sectional                      Hispanic   \n",
       "3                   1981.0     Cross-sectional                      Hispanic   \n",
       "4                   1982.0     Cross-sectional                      Hispanic   \n",
       "\n",
       "   trans_sat_verbal_hstr  trans_sat_math_hstr  trans_crd_gpa_overall_hstr  \\\n",
       "0                  350.0                470.0                       309.0   \n",
       "1                  460.0                440.0                       217.0   \n",
       "2                    NaN                  NaN                         NaN   \n",
       "3                    NaN                  NaN                       253.0   \n",
       "4                    NaN                  NaN                       243.0   \n",
       "\n",
       "   trans_crd_gpa_eng_hstr  ...  cv_bio_child_nr_2017  \\\n",
       "0                   310.0  ...                   NaN   \n",
       "1                   280.0  ...                   NaN   \n",
       "2                     NaN  ...                   0.0   \n",
       "3                   216.0  ...                   1.0   \n",
       "4                   235.0  ...                   0.0   \n",
       "\n",
       "   diplomadegree_rcvd_l1_2017 diplomadegree_rcvd_l2_2017  \\\n",
       "0                         NaN                        NaN   \n",
       "1                         NaN                        NaN   \n",
       "2                         NaN                        NaN   \n",
       "3                         NaN                        NaN   \n",
       "4                         NaN                        NaN   \n",
       "\n",
       "  diplomadegree_rcvd_l3_2017 diplomadegree_rcvd_l4_2017  \\\n",
       "0                        NaN                        NaN   \n",
       "1                        NaN                        NaN   \n",
       "2                        NaN                        NaN   \n",
       "3                        NaN                        NaN   \n",
       "4                        NaN                        NaN   \n",
       "\n",
       "  est_inc_wages_tips_past_yr_2017 hrswk_r_uses_a_computer_2017  \\\n",
       "0                             NaN                          NaN   \n",
       "1                             NaN          4 to 6 hours a week   \n",
       "2                             NaN      10 hours or more a week   \n",
       "3                             NaN          1 to 3 hours a week   \n",
       "4                             NaN      Less than 1 hour a week   \n",
       "\n",
       "  hrswk_r_watches_television_2017 hrsnight_r_sleeps_2017 cvc_wkswk_yr_all_l99  \n",
       "0                             NaN                    NaN                 52.0  \n",
       "1            3 to 10 hours a week                    6.0                  0.0  \n",
       "2            3 to 10 hours a week                    6.0                  0.0  \n",
       "3            3 to 10 hours a week                    6.0                  4.0  \n",
       "4            3 to 10 hours a week                    5.0                 12.0  \n",
       "\n",
       "[5 rows x 42 columns]"
      ]
     },
     "execution_count": 25,
     "metadata": {},
     "output_type": "execute_result"
    }
   ],
   "source": [
    "nls97spss.head()"
   ]
  },
  {
   "cell_type": "code",
   "execution_count": 26,
   "metadata": {},
   "outputs": [
    {
     "data": {
      "text/plain": [
       "Definitely should be        454\n",
       "Definitely should not be    300\n",
       "Probably should be          617\n",
       "Probably should not be      462\n",
       "Name: govt_responsibility__provide_jobs_2006, dtype: int64"
      ]
     },
     "execution_count": 26,
     "metadata": {},
     "output_type": "execute_result"
    }
   ],
   "source": [
    "nls97spss.govt_responsibility__provide_jobs_2006.\\\n",
    "  value_counts(sort=False)"
   ]
  },
  {
   "cell_type": "code",
   "execution_count": 27,
   "metadata": {},
   "outputs": [],
   "source": [
    "nls97spss.set_index('pubid__yth_id_code_1997', inplace=True)"
   ]
  },
  {
   "cell_type": "code",
   "execution_count": 28,
   "metadata": {},
   "outputs": [
    {
     "name": "stderr",
     "output_type": "stream",
     "text": [
      "C:\\Users\\mikol\\AppData\\Local\\Temp/ipykernel_17280/2487296836.py:6: FutureWarning: The default value of regex will change from True to False in a future version.\n",
      "  str.replace('[^a-z0-9_]', '')\n"
     ]
    },
    {
     "data": {
      "text/plain": [
       "pubid__yth_id_code_1997                        float64\n",
       "keysex_symbol_1997                            category\n",
       "keybdate_my_symbol_1997                        float64\n",
       "keybdate_my_symbol_1997                        float64\n",
       "cv_sample_type_1997                           category\n",
       "keyrace_ethnicity_symbol_1997                 category\n",
       "trans_sat_verbal_hstr                          float64\n",
       "trans_sat_math_hstr                            float64\n",
       "trans_crd_gpa_overall_hstr                     float64\n",
       "trans_crd_gpa_eng_hstr                         float64\n",
       "trans_crd_gpa_math_hstr                        float64\n",
       "trans_crd_gpa_lp_sci_hstr                      float64\n",
       "govt_responsibility__provide_jobs_2006        category\n",
       "govt_respnsblty__keep_prices_und_ctrl_2006    category\n",
       "govt_respnsblty__hlth_care_for_sick_2006      category\n",
       "govt_respnsblty_prov_eld_liv_stand_2006       category\n",
       "govt_respnsblty_prov_ind_help_2006            category\n",
       "govt_respnsblty_prov_unemp_liv_stand_2006     category\n",
       "govt_respnsblty_reduce_inc_diff_2006          category\n",
       "govt_respnsblty_prov_coll_fin_aid_2006        category\n",
       "govt_respnsblty_prov_decent_housing_2006      category\n",
       "govt_respnsblty_protect_environment_2006      category\n",
       "cv_ba_credits_l1_2011                          float64\n",
       "cv_college_type_l1_2017                       category\n",
       "cv_college_type_l2_2017                       category\n",
       "cv_college_type_l3_2017                       category\n",
       "cv_college_type_l4_2017                       category\n",
       "cv_college_type_l5_2017                       category\n",
       "cv_college_type_l6_2017                       category\n",
       "cv_hgc_ever_2017                              category\n",
       "cv_marstat_collapsed_2017                     category\n",
       "cv_bio_child_hh_2017                           float64\n",
       "cv_bio_child_nr_2017                           float64\n",
       "diplomadegree_rcvd_l1_2017                    category\n",
       "diplomadegree_rcvd_l2_2017                    category\n",
       "diplomadegree_rcvd_l3_2017                    category\n",
       "diplomadegree_rcvd_l4_2017                    category\n",
       "est_inc_wages_tips_past_yr_2017               category\n",
       "hrswk_r_uses_a_computer_2017                  category\n",
       "hrswk_r_watches_television_2017               category\n",
       "hrsnight_r_sleeps_2017                         float64\n",
       "cvc_wkswk_yr_all_l99                           float64\n",
       "dtype: object"
      ]
     },
     "execution_count": 28,
     "metadata": {},
     "output_type": "execute_result"
    }
   ],
   "source": [
    "nls97stata, metastata = pyreadstat.read_dta('data/nls97.dta', apply_value_formats=True, formats_as_category=True)\n",
    "nls97stata.columns = metastata.column_labels\n",
    "nls97stata.columns = nls97stata.columns.\\\n",
    "    str.lower().\\\n",
    "    str.replace(' ','_').\\\n",
    "    str.replace('[^a-z0-9_]', '')\n",
    "nls97stata.dtypes"
   ]
  },
  {
   "cell_type": "code",
   "execution_count": 29,
   "metadata": {},
   "outputs": [
    {
     "data": {
      "text/html": [
       "<div>\n",
       "<style scoped>\n",
       "    .dataframe tbody tr th:only-of-type {\n",
       "        vertical-align: middle;\n",
       "    }\n",
       "\n",
       "    .dataframe tbody tr th {\n",
       "        vertical-align: top;\n",
       "    }\n",
       "\n",
       "    .dataframe thead th {\n",
       "        text-align: right;\n",
       "    }\n",
       "</style>\n",
       "<table border=\"1\" class=\"dataframe\">\n",
       "  <thead>\n",
       "    <tr style=\"text-align: right;\">\n",
       "      <th></th>\n",
       "      <th>pubid__yth_id_code_1997</th>\n",
       "      <th>keysex_symbol_1997</th>\n",
       "      <th>keybdate_my_symbol_1997</th>\n",
       "      <th>keybdate_my_symbol_1997</th>\n",
       "      <th>cv_sample_type_1997</th>\n",
       "      <th>keyrace_ethnicity_symbol_1997</th>\n",
       "      <th>trans_sat_verbal_hstr</th>\n",
       "      <th>trans_sat_math_hstr</th>\n",
       "      <th>trans_crd_gpa_overall_hstr</th>\n",
       "      <th>trans_crd_gpa_eng_hstr</th>\n",
       "      <th>...</th>\n",
       "      <th>cv_bio_child_nr_2017</th>\n",
       "      <th>diplomadegree_rcvd_l1_2017</th>\n",
       "      <th>diplomadegree_rcvd_l2_2017</th>\n",
       "      <th>diplomadegree_rcvd_l3_2017</th>\n",
       "      <th>diplomadegree_rcvd_l4_2017</th>\n",
       "      <th>est_inc_wages_tips_past_yr_2017</th>\n",
       "      <th>hrswk_r_uses_a_computer_2017</th>\n",
       "      <th>hrswk_r_watches_television_2017</th>\n",
       "      <th>hrsnight_r_sleeps_2017</th>\n",
       "      <th>cvc_wkswk_yr_all_l99</th>\n",
       "    </tr>\n",
       "  </thead>\n",
       "  <tbody>\n",
       "    <tr>\n",
       "      <th>0</th>\n",
       "      <td>1.0</td>\n",
       "      <td>Female</td>\n",
       "      <td>9.0</td>\n",
       "      <td>1981.0</td>\n",
       "      <td>Cross-sectional</td>\n",
       "      <td>Non-Black / Non-Hispanic</td>\n",
       "      <td>350.0</td>\n",
       "      <td>470.0</td>\n",
       "      <td>309.0</td>\n",
       "      <td>310.0</td>\n",
       "      <td>...</td>\n",
       "      <td>-5.0</td>\n",
       "      <td>-5.0</td>\n",
       "      <td>-5.0</td>\n",
       "      <td>-5.0</td>\n",
       "      <td>-5.0</td>\n",
       "      <td>-5.0</td>\n",
       "      <td>-5.0</td>\n",
       "      <td>-5.0</td>\n",
       "      <td>-5.0</td>\n",
       "      <td>52.0</td>\n",
       "    </tr>\n",
       "    <tr>\n",
       "      <th>1</th>\n",
       "      <td>2.0</td>\n",
       "      <td>Male</td>\n",
       "      <td>7.0</td>\n",
       "      <td>1982.0</td>\n",
       "      <td>Cross-sectional</td>\n",
       "      <td>Hispanic</td>\n",
       "      <td>460.0</td>\n",
       "      <td>440.0</td>\n",
       "      <td>217.0</td>\n",
       "      <td>280.0</td>\n",
       "      <td>...</td>\n",
       "      <td>-4.0</td>\n",
       "      <td>-4.0</td>\n",
       "      <td>-4.0</td>\n",
       "      <td>-4.0</td>\n",
       "      <td>-4.0</td>\n",
       "      <td>-4.0</td>\n",
       "      <td>4 to 6 hours a week</td>\n",
       "      <td>3 to 10 hours a week</td>\n",
       "      <td>6.0</td>\n",
       "      <td>0.0</td>\n",
       "    </tr>\n",
       "    <tr>\n",
       "      <th>2</th>\n",
       "      <td>3.0</td>\n",
       "      <td>Female</td>\n",
       "      <td>9.0</td>\n",
       "      <td>1983.0</td>\n",
       "      <td>Cross-sectional</td>\n",
       "      <td>Hispanic</td>\n",
       "      <td>-4.0</td>\n",
       "      <td>-4.0</td>\n",
       "      <td>-4.0</td>\n",
       "      <td>-4.0</td>\n",
       "      <td>...</td>\n",
       "      <td>0.0</td>\n",
       "      <td>-4.0</td>\n",
       "      <td>-4.0</td>\n",
       "      <td>-4.0</td>\n",
       "      <td>-4.0</td>\n",
       "      <td>-1.0</td>\n",
       "      <td>10 hours or more a week</td>\n",
       "      <td>3 to 10 hours a week</td>\n",
       "      <td>6.0</td>\n",
       "      <td>0.0</td>\n",
       "    </tr>\n",
       "    <tr>\n",
       "      <th>3</th>\n",
       "      <td>4.0</td>\n",
       "      <td>Female</td>\n",
       "      <td>2.0</td>\n",
       "      <td>1981.0</td>\n",
       "      <td>Cross-sectional</td>\n",
       "      <td>Hispanic</td>\n",
       "      <td>-4.0</td>\n",
       "      <td>-4.0</td>\n",
       "      <td>253.0</td>\n",
       "      <td>216.0</td>\n",
       "      <td>...</td>\n",
       "      <td>1.0</td>\n",
       "      <td>-4.0</td>\n",
       "      <td>-4.0</td>\n",
       "      <td>-4.0</td>\n",
       "      <td>-4.0</td>\n",
       "      <td>-4.0</td>\n",
       "      <td>1 to 3 hours a week</td>\n",
       "      <td>3 to 10 hours a week</td>\n",
       "      <td>6.0</td>\n",
       "      <td>4.0</td>\n",
       "    </tr>\n",
       "    <tr>\n",
       "      <th>4</th>\n",
       "      <td>5.0</td>\n",
       "      <td>Male</td>\n",
       "      <td>10.0</td>\n",
       "      <td>1982.0</td>\n",
       "      <td>Cross-sectional</td>\n",
       "      <td>Hispanic</td>\n",
       "      <td>-4.0</td>\n",
       "      <td>-4.0</td>\n",
       "      <td>243.0</td>\n",
       "      <td>235.0</td>\n",
       "      <td>...</td>\n",
       "      <td>0.0</td>\n",
       "      <td>-4.0</td>\n",
       "      <td>-4.0</td>\n",
       "      <td>-4.0</td>\n",
       "      <td>-4.0</td>\n",
       "      <td>-4.0</td>\n",
       "      <td>Less than 1 hour a week</td>\n",
       "      <td>3 to 10 hours a week</td>\n",
       "      <td>5.0</td>\n",
       "      <td>12.0</td>\n",
       "    </tr>\n",
       "  </tbody>\n",
       "</table>\n",
       "<p>5 rows × 42 columns</p>\n",
       "</div>"
      ],
      "text/plain": [
       "   pubid__yth_id_code_1997 keysex_symbol_1997  keybdate_my_symbol_1997  \\\n",
       "0                      1.0             Female                      9.0   \n",
       "1                      2.0               Male                      7.0   \n",
       "2                      3.0             Female                      9.0   \n",
       "3                      4.0             Female                      2.0   \n",
       "4                      5.0               Male                     10.0   \n",
       "\n",
       "   keybdate_my_symbol_1997 cv_sample_type_1997 keyrace_ethnicity_symbol_1997  \\\n",
       "0                   1981.0     Cross-sectional      Non-Black / Non-Hispanic   \n",
       "1                   1982.0     Cross-sectional                      Hispanic   \n",
       "2                   1983.0     Cross-sectional                      Hispanic   \n",
       "3                   1981.0     Cross-sectional                      Hispanic   \n",
       "4                   1982.0     Cross-sectional                      Hispanic   \n",
       "\n",
       "   trans_sat_verbal_hstr  trans_sat_math_hstr  trans_crd_gpa_overall_hstr  \\\n",
       "0                  350.0                470.0                       309.0   \n",
       "1                  460.0                440.0                       217.0   \n",
       "2                   -4.0                 -4.0                        -4.0   \n",
       "3                   -4.0                 -4.0                       253.0   \n",
       "4                   -4.0                 -4.0                       243.0   \n",
       "\n",
       "   trans_crd_gpa_eng_hstr  ...  cv_bio_child_nr_2017  \\\n",
       "0                   310.0  ...                  -5.0   \n",
       "1                   280.0  ...                  -4.0   \n",
       "2                    -4.0  ...                   0.0   \n",
       "3                   216.0  ...                   1.0   \n",
       "4                   235.0  ...                   0.0   \n",
       "\n",
       "   diplomadegree_rcvd_l1_2017 diplomadegree_rcvd_l2_2017  \\\n",
       "0                        -5.0                       -5.0   \n",
       "1                        -4.0                       -4.0   \n",
       "2                        -4.0                       -4.0   \n",
       "3                        -4.0                       -4.0   \n",
       "4                        -4.0                       -4.0   \n",
       "\n",
       "  diplomadegree_rcvd_l3_2017 diplomadegree_rcvd_l4_2017  \\\n",
       "0                       -5.0                       -5.0   \n",
       "1                       -4.0                       -4.0   \n",
       "2                       -4.0                       -4.0   \n",
       "3                       -4.0                       -4.0   \n",
       "4                       -4.0                       -4.0   \n",
       "\n",
       "  est_inc_wages_tips_past_yr_2017 hrswk_r_uses_a_computer_2017  \\\n",
       "0                            -5.0                         -5.0   \n",
       "1                            -4.0          4 to 6 hours a week   \n",
       "2                            -1.0      10 hours or more a week   \n",
       "3                            -4.0          1 to 3 hours a week   \n",
       "4                            -4.0      Less than 1 hour a week   \n",
       "\n",
       "  hrswk_r_watches_television_2017 hrsnight_r_sleeps_2017 cvc_wkswk_yr_all_l99  \n",
       "0                            -5.0                   -5.0                 52.0  \n",
       "1            3 to 10 hours a week                    6.0                  0.0  \n",
       "2            3 to 10 hours a week                    6.0                  0.0  \n",
       "3            3 to 10 hours a week                    6.0                  4.0  \n",
       "4            3 to 10 hours a week                    5.0                 12.0  \n",
       "\n",
       "[5 rows x 42 columns]"
      ]
     },
     "execution_count": 29,
     "metadata": {},
     "output_type": "execute_result"
    }
   ],
   "source": [
    "nls97stata.head()"
   ]
  },
  {
   "cell_type": "code",
   "execution_count": 30,
   "metadata": {},
   "outputs": [
    {
     "data": {
      "text/plain": [
       "-5.0                        1425\n",
       "-4.0                        5665\n",
       "-2.0                          56\n",
       "-1.0                           5\n",
       "Definitely should be         454\n",
       "Definitely should not be     300\n",
       "Probably should be           617\n",
       "Probably should not be       462\n",
       "Name: govt_responsibility__provide_jobs_2006, dtype: int64"
      ]
     },
     "execution_count": 30,
     "metadata": {},
     "output_type": "execute_result"
    }
   ],
   "source": [
    "nls97stata.govt_responsibility__provide_jobs_2006.\\\n",
    "  value_counts(sort=False)"
   ]
  },
  {
   "cell_type": "code",
   "execution_count": 31,
   "metadata": {},
   "outputs": [
    {
     "name": "stderr",
     "output_type": "stream",
     "text": [
      "C:\\Users\\mikol\\AppData\\Local\\Temp/ipykernel_17280/287655406.py:1: FutureWarning: Dropping of nuisance columns in DataFrame reductions (with 'numeric_only=None') is deprecated; in a future version this will raise TypeError.  Select only valid columns before calling the reduction.\n",
      "  nls97stata.min()\n"
     ]
    },
    {
     "data": {
      "text/plain": [
       "pubid__yth_id_code_1997          1.0\n",
       "keybdate_my_symbol_1997          1.0\n",
       "keybdate_my_symbol_1997       1980.0\n",
       "trans_sat_verbal_hstr           -4.0\n",
       "trans_sat_math_hstr             -4.0\n",
       "trans_crd_gpa_overall_hstr      -9.0\n",
       "trans_crd_gpa_eng_hstr          -9.0\n",
       "trans_crd_gpa_math_hstr         -9.0\n",
       "trans_crd_gpa_lp_sci_hstr       -9.0\n",
       "cv_ba_credits_l1_2011           -5.0\n",
       "cv_bio_child_hh_2017            -5.0\n",
       "cv_bio_child_nr_2017            -5.0\n",
       "hrsnight_r_sleeps_2017          -5.0\n",
       "cvc_wkswk_yr_all_l99            -4.0\n",
       "dtype: float64"
      ]
     },
     "execution_count": 31,
     "metadata": {},
     "output_type": "execute_result"
    }
   ],
   "source": [
    "nls97stata.min()"
   ]
  },
  {
   "cell_type": "code",
   "execution_count": 32,
   "metadata": {},
   "outputs": [],
   "source": [
    "nls97stata.replace(list(range(-9,0)), np.nan, inplace=True)"
   ]
  },
  {
   "cell_type": "code",
   "execution_count": 33,
   "metadata": {},
   "outputs": [
    {
     "name": "stderr",
     "output_type": "stream",
     "text": [
      "C:\\Users\\mikol\\AppData\\Local\\Temp/ipykernel_17280/287655406.py:1: FutureWarning: Dropping of nuisance columns in DataFrame reductions (with 'numeric_only=None') is deprecated; in a future version this will raise TypeError.  Select only valid columns before calling the reduction.\n",
      "  nls97stata.min()\n"
     ]
    },
    {
     "data": {
      "text/plain": [
       "pubid__yth_id_code_1997          1.0\n",
       "keybdate_my_symbol_1997          1.0\n",
       "keybdate_my_symbol_1997       1980.0\n",
       "trans_sat_verbal_hstr           14.0\n",
       "trans_sat_math_hstr              7.0\n",
       "trans_crd_gpa_overall_hstr      10.0\n",
       "trans_crd_gpa_eng_hstr           0.0\n",
       "trans_crd_gpa_math_hstr          0.0\n",
       "trans_crd_gpa_lp_sci_hstr        0.0\n",
       "cv_ba_credits_l1_2011            0.0\n",
       "cv_bio_child_hh_2017             0.0\n",
       "cv_bio_child_nr_2017             0.0\n",
       "hrsnight_r_sleeps_2017           0.0\n",
       "cvc_wkswk_yr_all_l99             0.0\n",
       "dtype: float64"
      ]
     },
     "execution_count": 33,
     "metadata": {},
     "output_type": "execute_result"
    }
   ],
   "source": [
    "nls97stata.min()"
   ]
  },
  {
   "cell_type": "code",
   "execution_count": 34,
   "metadata": {},
   "outputs": [],
   "source": [
    "nls97stata.set_index('pubid__yth_id_code_1997', inplace=True)"
   ]
  },
  {
   "cell_type": "code",
   "execution_count": 35,
   "metadata": {},
   "outputs": [],
   "source": [
    "nls97sas, metasas = pyreadstat.read_sas7bdat('data/nls97.sas7bdat', catalog_file='data/nlsformats3.sas7bcat', formats_as_category=True)"
   ]
  },
  {
   "cell_type": "code",
   "execution_count": 36,
   "metadata": {},
   "outputs": [],
   "source": [
    "nls97sas.columns = metasas.column_labels"
   ]
  },
  {
   "cell_type": "code",
   "execution_count": 38,
   "metadata": {},
   "outputs": [
    {
     "name": "stderr",
     "output_type": "stream",
     "text": [
      "C:\\Users\\mikol\\AppData\\Local\\Temp/ipykernel_17280/3697091447.py:4: FutureWarning: The default value of regex will change from True to False in a future version.\n",
      "  str.replace('[^a-z0-9_]', '')\n"
     ]
    }
   ],
   "source": [
    "nls97sas.columns = nls97sas.columns.\\\n",
    "    str.lower().\\\n",
    "    str.replace(' ','_').\\\n",
    "    str.replace('[^a-z0-9_]', '')"
   ]
  },
  {
   "cell_type": "code",
   "execution_count": 39,
   "metadata": {},
   "outputs": [
    {
     "data": {
      "text/html": [
       "<div>\n",
       "<style scoped>\n",
       "    .dataframe tbody tr th:only-of-type {\n",
       "        vertical-align: middle;\n",
       "    }\n",
       "\n",
       "    .dataframe tbody tr th {\n",
       "        vertical-align: top;\n",
       "    }\n",
       "\n",
       "    .dataframe thead th {\n",
       "        text-align: right;\n",
       "    }\n",
       "</style>\n",
       "<table border=\"1\" class=\"dataframe\">\n",
       "  <thead>\n",
       "    <tr style=\"text-align: right;\">\n",
       "      <th></th>\n",
       "      <th>pubid__yth_id_code_1997</th>\n",
       "      <th>keysex_symbol_1997</th>\n",
       "      <th>keybdate_my_symbol_1997</th>\n",
       "      <th>keybdate_my_symbol_1997</th>\n",
       "      <th>cv_sample_type_1997</th>\n",
       "      <th>keyrace_ethnicity_symbol_1997</th>\n",
       "      <th>trans_sat_verbal_hstr</th>\n",
       "      <th>trans_sat_math_hstr</th>\n",
       "      <th>trans_crd_gpa_overall_hstr</th>\n",
       "      <th>trans_crd_gpa_eng_hstr</th>\n",
       "      <th>...</th>\n",
       "      <th>cv_bio_child_nr_2017</th>\n",
       "      <th>diplomadegree_rcvd_l1_2017</th>\n",
       "      <th>diplomadegree_rcvd_l2_2017</th>\n",
       "      <th>diplomadegree_rcvd_l3_2017</th>\n",
       "      <th>diplomadegree_rcvd_l4_2017</th>\n",
       "      <th>est_inc_wages_tips_past_yr_2017</th>\n",
       "      <th>hrswk_r_uses_a_computer_2017</th>\n",
       "      <th>hrswk_r_watches_television_2017</th>\n",
       "      <th>hrsnight_r_sleeps_2017</th>\n",
       "      <th>cvc_wkswk_yr_all_l99</th>\n",
       "    </tr>\n",
       "  </thead>\n",
       "  <tbody>\n",
       "    <tr>\n",
       "      <th>0</th>\n",
       "      <td>1.0</td>\n",
       "      <td>Female</td>\n",
       "      <td>9.0</td>\n",
       "      <td>1981.0</td>\n",
       "      <td>Cross-sectional</td>\n",
       "      <td>Non-Black / Non-Hispanic</td>\n",
       "      <td>350.0</td>\n",
       "      <td>470.0</td>\n",
       "      <td>309.0</td>\n",
       "      <td>310.0</td>\n",
       "      <td>...</td>\n",
       "      <td>NaN</td>\n",
       "      <td>NaN</td>\n",
       "      <td>NaN</td>\n",
       "      <td>NaN</td>\n",
       "      <td>NaN</td>\n",
       "      <td>NaN</td>\n",
       "      <td>NaN</td>\n",
       "      <td>NaN</td>\n",
       "      <td>NaN</td>\n",
       "      <td>52.0</td>\n",
       "    </tr>\n",
       "    <tr>\n",
       "      <th>1</th>\n",
       "      <td>2.0</td>\n",
       "      <td>Male</td>\n",
       "      <td>7.0</td>\n",
       "      <td>1982.0</td>\n",
       "      <td>Cross-sectional</td>\n",
       "      <td>Hispanic</td>\n",
       "      <td>460.0</td>\n",
       "      <td>440.0</td>\n",
       "      <td>217.0</td>\n",
       "      <td>280.0</td>\n",
       "      <td>...</td>\n",
       "      <td>NaN</td>\n",
       "      <td>NaN</td>\n",
       "      <td>NaN</td>\n",
       "      <td>NaN</td>\n",
       "      <td>NaN</td>\n",
       "      <td>NaN</td>\n",
       "      <td>4 to 6 hours a week</td>\n",
       "      <td>3 to 10 hours a week</td>\n",
       "      <td>6.0</td>\n",
       "      <td>0.0</td>\n",
       "    </tr>\n",
       "    <tr>\n",
       "      <th>2</th>\n",
       "      <td>3.0</td>\n",
       "      <td>Female</td>\n",
       "      <td>9.0</td>\n",
       "      <td>1983.0</td>\n",
       "      <td>Cross-sectional</td>\n",
       "      <td>Hispanic</td>\n",
       "      <td>NaN</td>\n",
       "      <td>NaN</td>\n",
       "      <td>NaN</td>\n",
       "      <td>NaN</td>\n",
       "      <td>...</td>\n",
       "      <td>0.0</td>\n",
       "      <td>NaN</td>\n",
       "      <td>NaN</td>\n",
       "      <td>NaN</td>\n",
       "      <td>NaN</td>\n",
       "      <td>NaN</td>\n",
       "      <td>10 hours or more a week</td>\n",
       "      <td>3 to 10 hours a week</td>\n",
       "      <td>6.0</td>\n",
       "      <td>0.0</td>\n",
       "    </tr>\n",
       "    <tr>\n",
       "      <th>3</th>\n",
       "      <td>4.0</td>\n",
       "      <td>Female</td>\n",
       "      <td>2.0</td>\n",
       "      <td>1981.0</td>\n",
       "      <td>Cross-sectional</td>\n",
       "      <td>Hispanic</td>\n",
       "      <td>NaN</td>\n",
       "      <td>NaN</td>\n",
       "      <td>253.0</td>\n",
       "      <td>216.0</td>\n",
       "      <td>...</td>\n",
       "      <td>1.0</td>\n",
       "      <td>NaN</td>\n",
       "      <td>NaN</td>\n",
       "      <td>NaN</td>\n",
       "      <td>NaN</td>\n",
       "      <td>NaN</td>\n",
       "      <td>1 to 3 hours a week</td>\n",
       "      <td>3 to 10 hours a week</td>\n",
       "      <td>6.0</td>\n",
       "      <td>4.0</td>\n",
       "    </tr>\n",
       "    <tr>\n",
       "      <th>4</th>\n",
       "      <td>5.0</td>\n",
       "      <td>Male</td>\n",
       "      <td>10.0</td>\n",
       "      <td>1982.0</td>\n",
       "      <td>Cross-sectional</td>\n",
       "      <td>Hispanic</td>\n",
       "      <td>NaN</td>\n",
       "      <td>NaN</td>\n",
       "      <td>243.0</td>\n",
       "      <td>235.0</td>\n",
       "      <td>...</td>\n",
       "      <td>0.0</td>\n",
       "      <td>NaN</td>\n",
       "      <td>NaN</td>\n",
       "      <td>NaN</td>\n",
       "      <td>NaN</td>\n",
       "      <td>NaN</td>\n",
       "      <td>Less than 1 hour a week</td>\n",
       "      <td>3 to 10 hours a week</td>\n",
       "      <td>5.0</td>\n",
       "      <td>12.0</td>\n",
       "    </tr>\n",
       "  </tbody>\n",
       "</table>\n",
       "<p>5 rows × 42 columns</p>\n",
       "</div>"
      ],
      "text/plain": [
       "   pubid__yth_id_code_1997 keysex_symbol_1997  keybdate_my_symbol_1997  \\\n",
       "0                      1.0             Female                      9.0   \n",
       "1                      2.0               Male                      7.0   \n",
       "2                      3.0             Female                      9.0   \n",
       "3                      4.0             Female                      2.0   \n",
       "4                      5.0               Male                     10.0   \n",
       "\n",
       "   keybdate_my_symbol_1997 cv_sample_type_1997 keyrace_ethnicity_symbol_1997  \\\n",
       "0                   1981.0     Cross-sectional      Non-Black / Non-Hispanic   \n",
       "1                   1982.0     Cross-sectional                      Hispanic   \n",
       "2                   1983.0     Cross-sectional                      Hispanic   \n",
       "3                   1981.0     Cross-sectional                      Hispanic   \n",
       "4                   1982.0     Cross-sectional                      Hispanic   \n",
       "\n",
       "   trans_sat_verbal_hstr  trans_sat_math_hstr  trans_crd_gpa_overall_hstr  \\\n",
       "0                  350.0                470.0                       309.0   \n",
       "1                  460.0                440.0                       217.0   \n",
       "2                    NaN                  NaN                         NaN   \n",
       "3                    NaN                  NaN                       253.0   \n",
       "4                    NaN                  NaN                       243.0   \n",
       "\n",
       "   trans_crd_gpa_eng_hstr  ...  cv_bio_child_nr_2017  \\\n",
       "0                   310.0  ...                   NaN   \n",
       "1                   280.0  ...                   NaN   \n",
       "2                     NaN  ...                   0.0   \n",
       "3                   216.0  ...                   1.0   \n",
       "4                   235.0  ...                   0.0   \n",
       "\n",
       "   diplomadegree_rcvd_l1_2017 diplomadegree_rcvd_l2_2017  \\\n",
       "0                         NaN                        NaN   \n",
       "1                         NaN                        NaN   \n",
       "2                         NaN                        NaN   \n",
       "3                         NaN                        NaN   \n",
       "4                         NaN                        NaN   \n",
       "\n",
       "  diplomadegree_rcvd_l3_2017 diplomadegree_rcvd_l4_2017  \\\n",
       "0                        NaN                        NaN   \n",
       "1                        NaN                        NaN   \n",
       "2                        NaN                        NaN   \n",
       "3                        NaN                        NaN   \n",
       "4                        NaN                        NaN   \n",
       "\n",
       "  est_inc_wages_tips_past_yr_2017 hrswk_r_uses_a_computer_2017  \\\n",
       "0                             NaN                          NaN   \n",
       "1                             NaN          4 to 6 hours a week   \n",
       "2                             NaN      10 hours or more a week   \n",
       "3                             NaN          1 to 3 hours a week   \n",
       "4                             NaN      Less than 1 hour a week   \n",
       "\n",
       "  hrswk_r_watches_television_2017 hrsnight_r_sleeps_2017 cvc_wkswk_yr_all_l99  \n",
       "0                             NaN                    NaN                 52.0  \n",
       "1            3 to 10 hours a week                    6.0                  0.0  \n",
       "2            3 to 10 hours a week                    6.0                  0.0  \n",
       "3            3 to 10 hours a week                    6.0                  4.0  \n",
       "4            3 to 10 hours a week                    5.0                 12.0  \n",
       "\n",
       "[5 rows x 42 columns]"
      ]
     },
     "execution_count": 39,
     "metadata": {},
     "output_type": "execute_result"
    }
   ],
   "source": [
    "nls97sas.head()"
   ]
  },
  {
   "cell_type": "code",
   "execution_count": 40,
   "metadata": {},
   "outputs": [
    {
     "data": {
      "text/plain": [
       "Male      4599\n",
       "Female    4385\n",
       "Name: keysex_symbol_1997, dtype: int64"
      ]
     },
     "execution_count": 40,
     "metadata": {},
     "output_type": "execute_result"
    }
   ],
   "source": [
    "nls97sas.keysex_symbol_1997.value_counts()"
   ]
  },
  {
   "cell_type": "code",
   "execution_count": 41,
   "metadata": {},
   "outputs": [],
   "source": [
    "nls97sas.set_index('pubid__yth_id_code_1997', inplace=True)"
   ]
  },
  {
   "cell_type": "code",
   "execution_count": null,
   "metadata": {},
   "outputs": [],
   "source": []
  }
 ],
 "metadata": {
  "interpreter": {
   "hash": "7b0470897870f91c1d27568bf8346e85da46866cae942d918bd7f2b2e94e9a5a"
  },
  "kernelspec": {
   "display_name": "Python 3.10.0 64-bit",
   "language": "python",
   "name": "python3"
  },
  "language_info": {
   "codemirror_mode": {
    "name": "ipython",
    "version": 3
   },
   "file_extension": ".py",
   "mimetype": "text/x-python",
   "name": "python",
   "nbconvert_exporter": "python",
   "pygments_lexer": "ipython3",
   "version": "3.10.0"
  },
  "orig_nbformat": 4
 },
 "nbformat": 4,
 "nbformat_minor": 2
}
